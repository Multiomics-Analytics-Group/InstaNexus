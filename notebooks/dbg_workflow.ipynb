{
 "cells": [
  {
   "cell_type": "markdown",
   "id": "f70c4cce",
   "metadata": {},
   "source": [
    "## De Bruijn assembly workflow"
   ]
  },
  {
   "cell_type": "raw",
   "id": "92c4004e",
   "metadata": {
    "vscode": {
     "languageId": "raw"
    }
   },
   "source": [
    "r\"\"\" Full assembly workflow with a dbg approach.\n",
    " _____  _______  _    _ \n",
    "|  __ \\|__   __|| |  | |\n",
    "| |  | |  | |   | |  | |\n",
    "| |  | |  | |   | |  | |\n",
    "| |__| |  | |   | |__| |\n",
    "|_____/   |_|   |______|\n",
    "\n",
    "__authors__ = Marco Reverenna & Konstantinos Kalogeropoulus\n",
    "__copyright__ = Copyright 2025-2026\n",
    "__research-group__ = DTU Biosustain (Multi-omics Network Analytics) and DTU Bioengineering\n",
    "__date__ = 26 Jun 2025\n",
    "__maintainer__ = Marco Reverenna\n",
    "__email__ = marcor@dtu.dk\n",
    "__status__ = Dev\n",
    "\"\"\""
   ]
  },
  {
   "cell_type": "code",
   "execution_count": 1,
   "id": "f1530db3",
   "metadata": {},
   "outputs": [],
   "source": [
    "import os\n",
    "import sys\n",
    "\n",
    "script_dir = os.getcwd()\n",
    "sys.path.append(os.path.join(script_dir, '../src'))"
   ]
  },
  {
   "cell_type": "code",
   "execution_count": 2,
   "id": "7d0c60dd",
   "metadata": {},
   "outputs": [],
   "source": [
    "# my modules\n",
    "import dbg\n",
    "import greedy_method as greedy\n",
    "import mapping as map\n",
    "import consensus as cons\n",
    "import alignment as align\n",
    "import clustering as clus\n",
    "import preprocessing as prep\n",
    "import compute_statistics as comp_stat\n",
    "\n",
    "# import libraries\n",
    "from tqdm import tqdm\n",
    "from tempfile import mkdtemp\n",
    "from itertools import combinations\n",
    "from collections import defaultdict, Counter\n",
    "from Bio import SeqIO\n",
    "\n",
    "import json\n",
    "import re\n",
    "import Bio\n",
    "import shutil\n",
    "import logging\n",
    "import importlib\n",
    "import statistics\n",
    "import subprocess\n",
    "import numpy as np\n",
    "import pandas as pd\n",
    "import seaborn as sns\n",
    "import networkx as nx\n",
    "import plotly.express as px\n",
    "import matplotlib.pyplot as plt\n",
    "import plotly.graph_objects as go"
   ]
  },
  {
   "cell_type": "code",
   "execution_count": 3,
   "id": "2ec8c528",
   "metadata": {},
   "outputs": [],
   "source": [
    "def get_sample_metadata(run, chain=\"\", json_path=\"../json/sample_metadata.json\"):\n",
    "    with open(json_path, \"r\") as f:\n",
    "        all_meta = json.load(f)\n",
    "\n",
    "    if run not in all_meta:\n",
    "        raise ValueError(f\"Run '{run}' not found in metadata.\")\n",
    "\n",
    "    entries = all_meta[run]\n",
    "\n",
    "    for entry in entries:\n",
    "        if entry[\"chain\"] == chain:\n",
    "            return entry\n",
    "\n",
    "    raise ValueError(f\"No metadata found for run '{run}' with chain '{chain}'.\")"
   ]
  },
  {
   "cell_type": "code",
   "execution_count": 4,
   "id": "cb35a38a",
   "metadata": {},
   "outputs": [],
   "source": [
    "def get_colors_from_run(cat, is_scaffold=False, json_path=\"../json/colors.json\"):\n",
    "    if not os.path.exists(json_path):\n",
    "        raise FileNotFoundError(f\"Missing color file: {json_path}\")\n",
    "\n",
    "    with open(json_path, \"r\") as f:\n",
    "        colors = json.load(f)\n",
    "\n",
    "    category = cat.split(\"_\")[0].lower()\n",
    "    key = \"scaffold\" if is_scaffold else \"contig\"\n",
    "\n",
    "    try:\n",
    "        return colors[category][key]\n",
    "    except KeyError:\n",
    "        raise ValueError(f\"Color not defined for category '{category}' and key '{key}'\")\n"
   ]
  },
  {
   "cell_type": "code",
   "execution_count": 5,
   "id": "68e4877e",
   "metadata": {},
   "outputs": [],
   "source": [
    "def get_combination_name(ass_method, conf, kmer_size, size_threshold, min_overlap, min_identity, max_mismatches):\n",
    "    if ass_method == \"dbg\":\n",
    "        return f\"comb_{ass_method}_c{conf}_ks{kmer_size}_ts{size_threshold}_mo{min_overlap}_mi{min_identity}_mm{max_mismatches}\"\n",
    "    else:\n",
    "        return f\"comb_{ass_method}_c{conf}_ts{size_threshold}_mo{min_overlap}_mi{min_identity}_mm{max_mismatches}\"\n"
   ]
  },
  {
   "cell_type": "code",
   "execution_count": 6,
   "id": "317cadb5",
   "metadata": {},
   "outputs": [],
   "source": [
    "run = \"ma1\"\n",
    "\n",
    "meta = get_sample_metadata(run, chain = \"heavy\")\n",
    "\n",
    "protein = meta[\"protein\"]\n",
    "chain = meta[\"chain\"]\n",
    "proteases = meta[\"proteases\"]"
   ]
  },
  {
   "cell_type": "code",
   "execution_count": 7,
   "id": "21b216f9",
   "metadata": {},
   "outputs": [],
   "source": [
    "# antibodies,ma3heavy,dbg,comb_dbg_c0.9_ks7_ts0_mo4_mi0.8_mm12,39,0.968,72,0.251,30,0.144,0.939,0.907,0.619\n",
    "# nb6 comb_dbg_c0.86_ks6_ts0_mo4_mi0.9_mm12\n",
    "# bd17 comb_dbg_c0.88_ks7_ts10_mo4_mi0.9_mm12\n",
    "# bd15 comb_dbg_c0.92_ks6_ts0_mo4_mi0.9_mm12\n",
    "\n",
    "# best contig dbg results\n",
    "\n",
    "# ma1 heavy comb_dbg_c0.88_ks7_ts0_mo4_mi0.9_mm14\n",
    "# ma2 heavy comb_dbg_c0.86_ks6_ts0_mo3_mi0.9_mm10\n",
    "# ma3 heavy comb_dbg_c0.88_ks6_ts0_mo4_mi0.8_mm8\n",
    "\n",
    "# ma1 light comb_dbg_c0.86_ks7_ts0_mo4_mi0.9_mm8\n",
    "# ma2 light comb_dbg_c0.92_ks7_ts5_mo3_mi0.9_mm10\n",
    "# ma3 light comb_dbg_c0.92_ks6_ts10_mo3_mi0.8_mm14"
   ]
  },
  {
   "cell_type": "code",
   "execution_count": 8,
   "id": "7c7cf3fb",
   "metadata": {},
   "outputs": [],
   "source": [
    "ass_method = 'dbg'\n",
    "kmer_size = 7\n",
    "conf = 0.9\n",
    "size_threshold = 10\n",
    "min_overlap = 3\n",
    "min_identity = 0.9\n",
    "max_mismatches = 10"
   ]
  },
  {
   "cell_type": "code",
   "execution_count": 9,
   "id": "e01d685f",
   "metadata": {},
   "outputs": [
    {
     "name": "stdout",
     "output_type": "stream",
     "text": [
      "comb_dbg_c0.9_ks7_ts10_mo3_mi0.9_mm10\n"
     ]
    }
   ],
   "source": [
    "comb = get_combination_name(ass_method, conf, kmer_size, size_threshold, min_overlap, min_identity, max_mismatches)\n",
    "\n",
    "print(comb)"
   ]
  },
  {
   "cell_type": "code",
   "execution_count": 10,
   "id": "07014c6e",
   "metadata": {},
   "outputs": [],
   "source": [
    "params = {\"ass_method\": 'dbg',\n",
    "          \"conf\": conf,\n",
    "          \"kmer_size\": kmer_size,\n",
    "          \"min_overlap\": min_overlap,\n",
    "          \"min_identity\": min_identity,\n",
    "          \"max_mismatches\": max_mismatches,\n",
    "          \"size_threshold\": size_threshold\n",
    "          }"
   ]
  },
  {
   "cell_type": "code",
   "execution_count": 11,
   "id": "47e2ae45",
   "metadata": {},
   "outputs": [],
   "source": [
    "folder_outputs = f\"../outputs/{run}{chain}\"\n",
    "\n",
    "prep.create_directory(folder_outputs)\n",
    "\n",
    "combination_folder_out = os.path.join(folder_outputs, f\"comb_{ass_method}_c{conf}_ks{kmer_size}_ts{size_threshold}_mo{min_overlap}_mi{min_identity}_mm{max_mismatches}\")\n",
    "\n",
    "prep.create_subdirectories_outputs(combination_folder_out)"
   ]
  },
  {
   "cell_type": "markdown",
   "id": "93b3bd7a",
   "metadata": {},
   "source": [
    "### Data cleaning"
   ]
  },
  {
   "cell_type": "code",
   "execution_count": 12,
   "id": "a5ec6df1",
   "metadata": {},
   "outputs": [],
   "source": [
    "protein_norm = prep.normalize_sequence(protein)\n",
    "\n",
    "df = pd.read_csv(f\"../input/{run}.csv\")"
   ]
  },
  {
   "cell_type": "code",
   "execution_count": 13,
   "id": "617126fa",
   "metadata": {},
   "outputs": [],
   "source": [
    "df['protease'] = df['experiment_name'].apply(lambda name: prep.extract_protease(name, proteases))\n",
    "\n",
    "df = prep.clean_dataframe(df)"
   ]
  },
  {
   "cell_type": "code",
   "execution_count": 14,
   "id": "9390368f",
   "metadata": {},
   "outputs": [],
   "source": [
    "df['cleaned_preds'] = df['preds'].apply(prep.remove_modifications)"
   ]
  },
  {
   "cell_type": "code",
   "execution_count": 15,
   "id": "24628576",
   "metadata": {},
   "outputs": [],
   "source": [
    "cleaned_psms = df['cleaned_preds'].tolist()"
   ]
  },
  {
   "cell_type": "code",
   "execution_count": 16,
   "id": "5999e45f",
   "metadata": {},
   "outputs": [],
   "source": [
    "filtered_psms = prep.filter_contaminants(cleaned_psms, run, \"../fasta/contaminants.fasta\")"
   ]
  },
  {
   "cell_type": "code",
   "execution_count": 17,
   "id": "7748914d",
   "metadata": {},
   "outputs": [],
   "source": [
    "df = df[df['cleaned_preds'].isin(filtered_psms)]"
   ]
  },
  {
   "cell_type": "code",
   "execution_count": 18,
   "id": "fbb9803d",
   "metadata": {},
   "outputs": [],
   "source": [
    "df[\"mapped\"] = df[\"cleaned_preds\"].apply(lambda x: \"True\" if x in protein_norm else \"False\")"
   ]
  },
  {
   "cell_type": "code",
   "execution_count": 19,
   "id": "0683b91e",
   "metadata": {},
   "outputs": [],
   "source": [
    "df = df[df['conf'] > conf]"
   ]
  },
  {
   "cell_type": "code",
   "execution_count": 20,
   "id": "4a4399de",
   "metadata": {},
   "outputs": [],
   "source": [
    "df.reset_index(drop=True, inplace=True)"
   ]
  },
  {
   "cell_type": "code",
   "execution_count": 21,
   "id": "d31a46e1",
   "metadata": {},
   "outputs": [],
   "source": [
    "final_psms = df['cleaned_preds'].tolist()"
   ]
  },
  {
   "cell_type": "code",
   "execution_count": 22,
   "id": "ca2ae98e",
   "metadata": {},
   "outputs": [],
   "source": [
    "mapped_psms = map.process_protein_contigs_scaffold(final_psms, protein_norm, max_mismatches, min_identity)"
   ]
  },
  {
   "cell_type": "markdown",
   "id": "b041a6dd",
   "metadata": {},
   "source": [
    "### Assembly"
   ]
  },
  {
   "cell_type": "code",
   "execution_count": 23,
   "id": "9dc55fa5",
   "metadata": {},
   "outputs": [],
   "source": [
    "kmers = dbg.get_kmers(final_psms, kmer_size=kmer_size)"
   ]
  },
  {
   "cell_type": "code",
   "execution_count": 24,
   "id": "183e6403",
   "metadata": {},
   "outputs": [],
   "source": [
    "edges = dbg.get_debruijn_edges_from_kmers(kmers)"
   ]
  },
  {
   "cell_type": "code",
   "execution_count": 25,
   "id": "67b9d64d",
   "metadata": {},
   "outputs": [
    {
     "name": "stderr",
     "output_type": "stream",
     "text": [
      "Traversing nodes: 100%|██████████| 209/209 [00:00<00:00, 52617.62it/s]\n"
     ]
    }
   ],
   "source": [
    "assembled_contigs = dbg.assemble_contigs(edges)"
   ]
  },
  {
   "cell_type": "code",
   "execution_count": 26,
   "id": "26c62d0c",
   "metadata": {},
   "outputs": [],
   "source": [
    "assembled_contigs = sorted(assembled_contigs, key=len, reverse=True)"
   ]
  },
  {
   "cell_type": "code",
   "execution_count": 27,
   "id": "d3e0770a",
   "metadata": {},
   "outputs": [],
   "source": [
    "assembled_contigs = list(set(assembled_contigs))"
   ]
  },
  {
   "cell_type": "code",
   "execution_count": 28,
   "id": "1c5a7812",
   "metadata": {},
   "outputs": [],
   "source": [
    "assembled_contigs = [seq for seq in assembled_contigs if len(seq) > size_threshold]"
   ]
  },
  {
   "cell_type": "code",
   "execution_count": 29,
   "id": "ccc966b9",
   "metadata": {},
   "outputs": [],
   "source": [
    "assembled_contigs = sorted(assembled_contigs, key=len, reverse=True)"
   ]
  },
  {
   "cell_type": "code",
   "execution_count": 30,
   "id": "f8dd0547",
   "metadata": {},
   "outputs": [],
   "source": [
    "# assembled_contigs = list(dict.fromkeys(assembled_contigs))\n",
    "\n",
    "# assembled_contigs = [seq for seq in assembled_contigs if len(seq) > size_threshold]\n",
    "\n",
    "# assembled_contigs = sorted(assembled_contigs, key=len, reverse=True)\n",
    "\n",
    "# set could be the problem"
   ]
  },
  {
   "cell_type": "code",
   "execution_count": 31,
   "id": "2b0abb86",
   "metadata": {},
   "outputs": [],
   "source": [
    "records = [Bio.SeqRecord.SeqRecord(Bio.Seq.Seq(contig), id=f\"contig_{idx+1}\",\n",
    "                                description=f\"length: {len(contig)}\") for idx,\n",
    "                                contig in enumerate(assembled_contigs)]"
   ]
  },
  {
   "cell_type": "code",
   "execution_count": 32,
   "id": "f3f681f1",
   "metadata": {},
   "outputs": [
    {
     "data": {
      "text/plain": [
       "311"
      ]
     },
     "execution_count": 32,
     "metadata": {},
     "output_type": "execute_result"
    }
   ],
   "source": [
    "Bio.SeqIO.write(records, f\"{combination_folder_out}/contigs/{ass_method}_contig_{conf}_{run}.fasta\", \"fasta\")"
   ]
  },
  {
   "cell_type": "code",
   "execution_count": 33,
   "id": "181b8eb6",
   "metadata": {},
   "outputs": [],
   "source": [
    "mapped_contigs = map.process_protein_contigs_scaffold(assembled_contigs, protein_norm, max_mismatches, min_identity)"
   ]
  },
  {
   "cell_type": "code",
   "execution_count": 34,
   "id": "69b6aeae",
   "metadata": {},
   "outputs": [],
   "source": [
    "df_contigs_mapped = map.create_dataframe_from_mapped_sequences(data = mapped_contigs)"
   ]
  },
  {
   "cell_type": "code",
   "execution_count": 35,
   "id": "e7a11b56",
   "metadata": {},
   "outputs": [
    {
     "data": {
      "text/plain": [
       "{'ass_method': 'dbg',\n",
       " 'conf': 0.9,\n",
       " 'kmer_size': 7,\n",
       " 'min_overlap': 3,\n",
       " 'min_identity': 0.9,\n",
       " 'max_mismatches': 10,\n",
       " 'size_threshold': 10,\n",
       " 'reference_start': 0,\n",
       " 'reference_end': 459,\n",
       " 'total_sequences': 48,\n",
       " 'average_length': 38.895833333333336,\n",
       " 'min_length': 14,\n",
       " 'max_length': 73,\n",
       " 'coverage': 0.9629629629629629,\n",
       " 'mean_identity': 0.9600039990804534,\n",
       " 'median_identity': 0.9578900709219859,\n",
       " 'perfect_matches': 13,\n",
       " 'total_mismatches': 21,\n",
       " 'N50': 49,\n",
       " 'N90': 22}"
      ]
     },
     "execution_count": 35,
     "metadata": {},
     "output_type": "execute_result"
    }
   ],
   "source": [
    "comp_stat.compute_assembly_statistics(df = df_contigs_mapped, sequence_type='contigs', output_folder = f'{combination_folder_out}/statistics', reference = protein_norm, **params)\n"
   ]
  },
  {
   "cell_type": "code",
   "execution_count": 36,
   "id": "24ad4e0f",
   "metadata": {},
   "outputs": [
    {
     "name": "stderr",
     "output_type": "stream",
     "text": [
      "Plotting contigs: 100%|██████████| 48/48 [00:02<00:00, 23.25it/s]\n"
     ]
    },
    {
     "name": "stdout",
     "output_type": "stream",
     "text": [
      "Plotted 48 sequences.\n"
     ]
    },
    {
     "data": {
      "application/vnd.plotly.v1+json": {
       "config": {
        "plotlyServerURL": "https://plot.ly"
       },
       "data": [
        {
         "marker": {
          "color": "#fdbb84",
          "size": 10
         },
         "mode": "markers",
         "name": "Match",
         "type": "scatter",
         "x": [
          null
         ],
         "y": [
          null
         ]
        },
        {
         "marker": {
          "color": "#b30000",
          "size": 10
         },
         "mode": "markers",
         "name": "Mismatch",
         "type": "scatter",
         "x": [
          null
         ],
         "y": [
          null
         ]
        },
        {
         "marker": {
          "color": "#000000",
          "size": 10
         },
         "mode": "markers",
         "name": "Seq:D → Ref:N",
         "type": "scatter",
         "x": [
          null
         ],
         "y": [
          null
         ]
        },
        {
         "marker": {
          "color": "#A8A29E",
          "size": 10
         },
         "mode": "markers",
         "name": "Seq:E → Ref:Q",
         "type": "scatter",
         "x": [
          null
         ],
         "y": [
          null
         ]
        }
       ],
       "layout": {
        "font": {
         "color": "black",
         "family": "Arial, sans-serif",
         "size": 14
        },
        "height": 400,
        "legend": {
         "orientation": "h",
         "title": {
          "text": "Legend"
         },
         "x": 0.5,
         "xanchor": "center",
         "y": 1.05,
         "yanchor": "bottom"
        },
        "plot_bgcolor": "white",
        "shapes": [
         {
          "fillcolor": "#e6f0ef",
          "line": {
           "width": 0
          },
          "type": "rect",
          "x0": 0,
          "x1": 458,
          "y0": 0,
          "y1": 0.2
         },
         {
          "fillcolor": "#a6cee3",
          "line": {
           "color": "#a6cee3"
          },
          "type": "rect",
          "x0": 331,
          "x1": 403,
          "y0": 0.3,
          "y1": 0.375
         },
         {
          "fillcolor": "#a6cee3",
          "line": {
           "color": "#a6cee3"
          },
          "type": "rect",
          "x0": 333,
          "x1": 403,
          "y0": 0.4,
          "y1": 0.47500000000000003
         },
         {
          "fillcolor": "#000000",
          "line": {
           "color": "#000000"
          },
          "type": "rect",
          "x0": 335,
          "x1": 336,
          "y0": 0.4,
          "y1": 0.47500000000000003
         },
         {
          "fillcolor": "#a6cee3",
          "line": {
           "color": "#a6cee3"
          },
          "type": "rect",
          "x0": 333,
          "x1": 403,
          "y0": 0.5,
          "y1": 0.575
         },
         {
          "fillcolor": "#b30000",
          "line": {
           "color": "#b30000"
          },
          "type": "rect",
          "x0": 334,
          "x1": 335,
          "y0": 0.5,
          "y1": 0.575
         },
         {
          "fillcolor": "#b30000",
          "line": {
           "color": "#b30000"
          },
          "type": "rect",
          "x0": 335,
          "x1": 336,
          "y0": 0.5,
          "y1": 0.575
         },
         {
          "fillcolor": "#b30000",
          "line": {
           "color": "#b30000"
          },
          "type": "rect",
          "x0": 336,
          "x1": 337,
          "y0": 0.5,
          "y1": 0.575
         },
         {
          "fillcolor": "#b30000",
          "line": {
           "color": "#b30000"
          },
          "type": "rect",
          "x0": 338,
          "x1": 339,
          "y0": 0.5,
          "y1": 0.575
         },
         {
          "fillcolor": "#a6cee3",
          "line": {
           "color": "#a6cee3"
          },
          "type": "rect",
          "x0": 333,
          "x1": 403,
          "y0": 0.6000000000000001,
          "y1": 0.675
         },
         {
          "fillcolor": "#b30000",
          "line": {
           "color": "#b30000"
          },
          "type": "rect",
          "x0": 333,
          "x1": 334,
          "y0": 0.6000000000000001,
          "y1": 0.675
         },
         {
          "fillcolor": "#b30000",
          "line": {
           "color": "#b30000"
          },
          "type": "rect",
          "x0": 334,
          "x1": 335,
          "y0": 0.6000000000000001,
          "y1": 0.675
         },
         {
          "fillcolor": "#b30000",
          "line": {
           "color": "#b30000"
          },
          "type": "rect",
          "x0": 335,
          "x1": 336,
          "y0": 0.6000000000000001,
          "y1": 0.675
         },
         {
          "fillcolor": "#a6cee3",
          "line": {
           "color": "#a6cee3"
          },
          "type": "rect",
          "x0": 337,
          "x1": 403,
          "y0": 0.7,
          "y1": 0.7749999999999999
         },
         {
          "fillcolor": "#b30000",
          "line": {
           "color": "#b30000"
          },
          "type": "rect",
          "x0": 337,
          "x1": 338,
          "y0": 0.7,
          "y1": 0.7749999999999999
         },
         {
          "fillcolor": "#a6cee3",
          "line": {
           "color": "#a6cee3"
          },
          "type": "rect",
          "x0": 235,
          "x1": 299,
          "y0": 0.3,
          "y1": 0.375
         },
         {
          "fillcolor": "#b30000",
          "line": {
           "color": "#b30000"
          },
          "type": "rect",
          "x0": 235,
          "x1": 236,
          "y0": 0.3,
          "y1": 0.375
         },
         {
          "fillcolor": "#b30000",
          "line": {
           "color": "#b30000"
          },
          "type": "rect",
          "x0": 236,
          "x1": 237,
          "y0": 0.3,
          "y1": 0.375
         },
         {
          "fillcolor": "#a6cee3",
          "line": {
           "color": "#a6cee3"
          },
          "type": "rect",
          "x0": 165,
          "x1": 225,
          "y0": 0.3,
          "y1": 0.375
         },
         {
          "fillcolor": "#b30000",
          "line": {
           "color": "#b30000"
          },
          "type": "rect",
          "x0": 165,
          "x1": 166,
          "y0": 0.3,
          "y1": 0.375
         },
         {
          "fillcolor": "#b30000",
          "line": {
           "color": "#b30000"
          },
          "type": "rect",
          "x0": 166,
          "x1": 167,
          "y0": 0.3,
          "y1": 0.375
         },
         {
          "fillcolor": "#a6cee3",
          "line": {
           "color": "#a6cee3"
          },
          "type": "rect",
          "x0": 166,
          "x1": 225,
          "y0": 0.4,
          "y1": 0.47500000000000003
         },
         {
          "fillcolor": "#a6cee3",
          "line": {
           "color": "#a6cee3"
          },
          "type": "rect",
          "x0": 235,
          "x1": 293,
          "y0": 0.4,
          "y1": 0.47500000000000003
         },
         {
          "fillcolor": "#b30000",
          "line": {
           "color": "#b30000"
          },
          "type": "rect",
          "x0": 235,
          "x1": 236,
          "y0": 0.4,
          "y1": 0.47500000000000003
         },
         {
          "fillcolor": "#b30000",
          "line": {
           "color": "#b30000"
          },
          "type": "rect",
          "x0": 236,
          "x1": 237,
          "y0": 0.4,
          "y1": 0.47500000000000003
         },
         {
          "fillcolor": "#b30000",
          "line": {
           "color": "#b30000"
          },
          "type": "rect",
          "x0": 291,
          "x1": 292,
          "y0": 0.4,
          "y1": 0.47500000000000003
         },
         {
          "fillcolor": "#b30000",
          "line": {
           "color": "#b30000"
          },
          "type": "rect",
          "x0": 292,
          "x1": 293,
          "y0": 0.4,
          "y1": 0.47500000000000003
         },
         {
          "fillcolor": "#a6cee3",
          "line": {
           "color": "#a6cee3"
          },
          "type": "rect",
          "x0": 169,
          "x1": 225,
          "y0": 0.5,
          "y1": 0.575
         },
         {
          "fillcolor": "#000000",
          "line": {
           "color": "#000000"
          },
          "type": "rect",
          "x0": 169,
          "x1": 170,
          "y0": 0.5,
          "y1": 0.575
         },
         {
          "fillcolor": "#a6cee3",
          "line": {
           "color": "#a6cee3"
          },
          "type": "rect",
          "x0": 244,
          "x1": 299,
          "y0": 0.5,
          "y1": 0.575
         },
         {
          "fillcolor": "#b30000",
          "line": {
           "color": "#b30000"
          },
          "type": "rect",
          "x0": 244,
          "x1": 245,
          "y0": 0.5,
          "y1": 0.575
         },
         {
          "fillcolor": "#b30000",
          "line": {
           "color": "#b30000"
          },
          "type": "rect",
          "x0": 245,
          "x1": 246,
          "y0": 0.5,
          "y1": 0.575
         },
         {
          "fillcolor": "#b30000",
          "line": {
           "color": "#b30000"
          },
          "type": "rect",
          "x0": 246,
          "x1": 247,
          "y0": 0.5,
          "y1": 0.575
         },
         {
          "fillcolor": "#b30000",
          "line": {
           "color": "#b30000"
          },
          "type": "rect",
          "x0": 247,
          "x1": 248,
          "y0": 0.5,
          "y1": 0.575
         },
         {
          "fillcolor": "#a6cee3",
          "line": {
           "color": "#a6cee3"
          },
          "type": "rect",
          "x0": 235,
          "x1": 287,
          "y0": 0.6000000000000001,
          "y1": 0.675
         },
         {
          "fillcolor": "#b30000",
          "line": {
           "color": "#b30000"
          },
          "type": "rect",
          "x0": 235,
          "x1": 236,
          "y0": 0.6000000000000001,
          "y1": 0.675
         },
         {
          "fillcolor": "#b30000",
          "line": {
           "color": "#b30000"
          },
          "type": "rect",
          "x0": 236,
          "x1": 237,
          "y0": 0.6000000000000001,
          "y1": 0.675
         },
         {
          "fillcolor": "#000000",
          "line": {
           "color": "#000000"
          },
          "type": "rect",
          "x0": 286,
          "x1": 287,
          "y0": 0.6000000000000001,
          "y1": 0.675
         },
         {
          "fillcolor": "#a6cee3",
          "line": {
           "color": "#a6cee3"
          },
          "type": "rect",
          "x0": 331,
          "x1": 381,
          "y0": 0.8,
          "y1": 0.875
         },
         {
          "fillcolor": "#b30000",
          "line": {
           "color": "#b30000"
          },
          "type": "rect",
          "x0": 377,
          "x1": 378,
          "y0": 0.8,
          "y1": 0.875
         },
         {
          "fillcolor": "#a6cee3",
          "line": {
           "color": "#a6cee3"
          },
          "type": "rect",
          "x0": 250,
          "x1": 299,
          "y0": 0.7,
          "y1": 0.7749999999999999
         },
         {
          "fillcolor": "#b30000",
          "line": {
           "color": "#b30000"
          },
          "type": "rect",
          "x0": 250,
          "x1": 251,
          "y0": 0.7,
          "y1": 0.7749999999999999
         },
         {
          "fillcolor": "#b30000",
          "line": {
           "color": "#b30000"
          },
          "type": "rect",
          "x0": 251,
          "x1": 252,
          "y0": 0.7,
          "y1": 0.7749999999999999
         },
         {
          "fillcolor": "#a6cee3",
          "line": {
           "color": "#a6cee3"
          },
          "type": "rect",
          "x0": 333,
          "x1": 381,
          "y0": 0.9000000000000001,
          "y1": 0.9750000000000001
         },
         {
          "fillcolor": "#000000",
          "line": {
           "color": "#000000"
          },
          "type": "rect",
          "x0": 335,
          "x1": 336,
          "y0": 0.9000000000000001,
          "y1": 0.9750000000000001
         },
         {
          "fillcolor": "#b30000",
          "line": {
           "color": "#b30000"
          },
          "type": "rect",
          "x0": 377,
          "x1": 378,
          "y0": 0.9000000000000001,
          "y1": 0.9750000000000001
         },
         {
          "fillcolor": "#a6cee3",
          "line": {
           "color": "#a6cee3"
          },
          "type": "rect",
          "x0": 333,
          "x1": 381,
          "y0": 1,
          "y1": 1.075
         },
         {
          "fillcolor": "#b30000",
          "line": {
           "color": "#b30000"
          },
          "type": "rect",
          "x0": 333,
          "x1": 334,
          "y0": 1,
          "y1": 1.075
         },
         {
          "fillcolor": "#b30000",
          "line": {
           "color": "#b30000"
          },
          "type": "rect",
          "x0": 334,
          "x1": 335,
          "y0": 1,
          "y1": 1.075
         },
         {
          "fillcolor": "#b30000",
          "line": {
           "color": "#b30000"
          },
          "type": "rect",
          "x0": 335,
          "x1": 336,
          "y0": 1,
          "y1": 1.075
         },
         {
          "fillcolor": "#b30000",
          "line": {
           "color": "#b30000"
          },
          "type": "rect",
          "x0": 377,
          "x1": 378,
          "y0": 1,
          "y1": 1.075
         },
         {
          "fillcolor": "#a6cee3",
          "line": {
           "color": "#a6cee3"
          },
          "type": "rect",
          "x0": 178,
          "x1": 225,
          "y0": 0.6000000000000001,
          "y1": 0.675
         },
         {
          "fillcolor": "#b30000",
          "line": {
           "color": "#b30000"
          },
          "type": "rect",
          "x0": 178,
          "x1": 179,
          "y0": 0.6000000000000001,
          "y1": 0.675
         },
         {
          "fillcolor": "#b30000",
          "line": {
           "color": "#b30000"
          },
          "type": "rect",
          "x0": 179,
          "x1": 180,
          "y0": 0.6000000000000001,
          "y1": 0.675
         },
         {
          "fillcolor": "#a6cee3",
          "line": {
           "color": "#a6cee3"
          },
          "type": "rect",
          "x0": 123,
          "x1": 169,
          "y0": 0.6000000000000001,
          "y1": 0.675
         },
         {
          "fillcolor": "#a6cee3",
          "line": {
           "color": "#a6cee3"
          },
          "type": "rect",
          "x0": 337,
          "x1": 381,
          "y0": 1.1,
          "y1": 1.175
         },
         {
          "fillcolor": "#b30000",
          "line": {
           "color": "#b30000"
          },
          "type": "rect",
          "x0": 337,
          "x1": 338,
          "y0": 1.1,
          "y1": 1.175
         },
         {
          "fillcolor": "#b30000",
          "line": {
           "color": "#b30000"
          },
          "type": "rect",
          "x0": 377,
          "x1": 378,
          "y0": 1.1,
          "y1": 1.175
         },
         {
          "fillcolor": "#a6cee3",
          "line": {
           "color": "#a6cee3"
          },
          "type": "rect",
          "x0": 165,
          "x1": 209,
          "y0": 0.7,
          "y1": 0.7749999999999999
         },
         {
          "fillcolor": "#b30000",
          "line": {
           "color": "#b30000"
          },
          "type": "rect",
          "x0": 165,
          "x1": 166,
          "y0": 0.7,
          "y1": 0.7749999999999999
         },
         {
          "fillcolor": "#b30000",
          "line": {
           "color": "#b30000"
          },
          "type": "rect",
          "x0": 166,
          "x1": 167,
          "y0": 0.7,
          "y1": 0.7749999999999999
         },
         {
          "fillcolor": "#A8A29E",
          "line": {
           "color": "#A8A29E"
          },
          "type": "rect",
          "x0": 206,
          "x1": 207,
          "y0": 0.7,
          "y1": 0.7749999999999999
         },
         {
          "fillcolor": "#a6cee3",
          "line": {
           "color": "#a6cee3"
          },
          "type": "rect",
          "x0": 250,
          "x1": 293,
          "y0": 0.8,
          "y1": 0.875
         },
         {
          "fillcolor": "#b30000",
          "line": {
           "color": "#b30000"
          },
          "type": "rect",
          "x0": 250,
          "x1": 251,
          "y0": 0.8,
          "y1": 0.875
         },
         {
          "fillcolor": "#b30000",
          "line": {
           "color": "#b30000"
          },
          "type": "rect",
          "x0": 251,
          "x1": 252,
          "y0": 0.8,
          "y1": 0.875
         },
         {
          "fillcolor": "#b30000",
          "line": {
           "color": "#b30000"
          },
          "type": "rect",
          "x0": 291,
          "x1": 292,
          "y0": 0.8,
          "y1": 0.875
         },
         {
          "fillcolor": "#b30000",
          "line": {
           "color": "#b30000"
          },
          "type": "rect",
          "x0": 292,
          "x1": 293,
          "y0": 0.8,
          "y1": 0.875
         },
         {
          "fillcolor": "#a6cee3",
          "line": {
           "color": "#a6cee3"
          },
          "type": "rect",
          "x0": 166,
          "x1": 209,
          "y0": 0.8,
          "y1": 0.875
         },
         {
          "fillcolor": "#A8A29E",
          "line": {
           "color": "#A8A29E"
          },
          "type": "rect",
          "x0": 206,
          "x1": 207,
          "y0": 0.8,
          "y1": 0.875
         },
         {
          "fillcolor": "#a6cee3",
          "line": {
           "color": "#a6cee3"
          },
          "type": "rect",
          "x0": 169,
          "x1": 209,
          "y0": 0.9000000000000001,
          "y1": 0.9750000000000001
         },
         {
          "fillcolor": "#000000",
          "line": {
           "color": "#000000"
          },
          "type": "rect",
          "x0": 169,
          "x1": 170,
          "y0": 0.9000000000000001,
          "y1": 0.9750000000000001
         },
         {
          "fillcolor": "#A8A29E",
          "line": {
           "color": "#A8A29E"
          },
          "type": "rect",
          "x0": 206,
          "x1": 207,
          "y0": 0.9000000000000001,
          "y1": 0.9750000000000001
         },
         {
          "fillcolor": "#a6cee3",
          "line": {
           "color": "#a6cee3"
          },
          "type": "rect",
          "x0": 235,
          "x1": 272,
          "y0": 0.9000000000000001,
          "y1": 0.9750000000000001
         },
         {
          "fillcolor": "#b30000",
          "line": {
           "color": "#b30000"
          },
          "type": "rect",
          "x0": 235,
          "x1": 236,
          "y0": 0.9000000000000001,
          "y1": 0.9750000000000001
         },
         {
          "fillcolor": "#b30000",
          "line": {
           "color": "#b30000"
          },
          "type": "rect",
          "x0": 236,
          "x1": 237,
          "y0": 0.9000000000000001,
          "y1": 0.9750000000000001
         },
         {
          "fillcolor": "#b30000",
          "line": {
           "color": "#b30000"
          },
          "type": "rect",
          "x0": 271,
          "x1": 272,
          "y0": 0.9000000000000001,
          "y1": 0.9750000000000001
         },
         {
          "fillcolor": "#a6cee3",
          "line": {
           "color": "#a6cee3"
          },
          "type": "rect",
          "x0": 250,
          "x1": 287,
          "y0": 1,
          "y1": 1.075
         },
         {
          "fillcolor": "#b30000",
          "line": {
           "color": "#b30000"
          },
          "type": "rect",
          "x0": 250,
          "x1": 251,
          "y0": 1,
          "y1": 1.075
         },
         {
          "fillcolor": "#b30000",
          "line": {
           "color": "#b30000"
          },
          "type": "rect",
          "x0": 251,
          "x1": 252,
          "y0": 1,
          "y1": 1.075
         },
         {
          "fillcolor": "#000000",
          "line": {
           "color": "#000000"
          },
          "type": "rect",
          "x0": 286,
          "x1": 287,
          "y0": 1,
          "y1": 1.075
         },
         {
          "fillcolor": "#a6cee3",
          "line": {
           "color": "#a6cee3"
          },
          "type": "rect",
          "x0": 235,
          "x1": 271,
          "y0": 1.1,
          "y1": 1.175
         },
         {
          "fillcolor": "#b30000",
          "line": {
           "color": "#b30000"
          },
          "type": "rect",
          "x0": 235,
          "x1": 236,
          "y0": 1.1,
          "y1": 1.175
         },
         {
          "fillcolor": "#b30000",
          "line": {
           "color": "#b30000"
          },
          "type": "rect",
          "x0": 236,
          "x1": 237,
          "y0": 1.1,
          "y1": 1.175
         },
         {
          "fillcolor": "#b30000",
          "line": {
           "color": "#b30000"
          },
          "type": "rect",
          "x0": 270,
          "x1": 271,
          "y0": 1.1,
          "y1": 1.175
         },
         {
          "fillcolor": "#a6cee3",
          "line": {
           "color": "#a6cee3"
          },
          "type": "rect",
          "x0": 426,
          "x1": 458,
          "y0": 0.3,
          "y1": 0.375
         },
         {
          "fillcolor": "#a6cee3",
          "line": {
           "color": "#a6cee3"
          },
          "type": "rect",
          "x0": 178,
          "x1": 209,
          "y0": 1,
          "y1": 1.075
         },
         {
          "fillcolor": "#b30000",
          "line": {
           "color": "#b30000"
          },
          "type": "rect",
          "x0": 178,
          "x1": 179,
          "y0": 1,
          "y1": 1.075
         },
         {
          "fillcolor": "#b30000",
          "line": {
           "color": "#b30000"
          },
          "type": "rect",
          "x0": 179,
          "x1": 180,
          "y0": 1,
          "y1": 1.075
         },
         {
          "fillcolor": "#A8A29E",
          "line": {
           "color": "#A8A29E"
          },
          "type": "rect",
          "x0": 206,
          "x1": 207,
          "y0": 1,
          "y1": 1.075
         },
         {
          "fillcolor": "#a6cee3",
          "line": {
           "color": "#a6cee3"
          },
          "type": "rect",
          "x0": 271,
          "x1": 299,
          "y0": 1.2,
          "y1": 1.275
         },
         {
          "fillcolor": "#b30000",
          "line": {
           "color": "#b30000"
          },
          "type": "rect",
          "x0": 271,
          "x1": 272,
          "y0": 1.2,
          "y1": 1.275
         },
         {
          "fillcolor": "#b30000",
          "line": {
           "color": "#b30000"
          },
          "type": "rect",
          "x0": 272,
          "x1": 273,
          "y0": 1.2,
          "y1": 1.275
         },
         {
          "fillcolor": "#a6cee3",
          "line": {
           "color": "#a6cee3"
          },
          "type": "rect",
          "x0": 308,
          "x1": 335,
          "y0": 0.7,
          "y1": 0.7749999999999999
         },
         {
          "fillcolor": "#a6cee3",
          "line": {
           "color": "#a6cee3"
          },
          "type": "rect",
          "x0": 401,
          "x1": 428,
          "y0": 0.8,
          "y1": 0.875
         },
         {
          "fillcolor": "#a6cee3",
          "line": {
           "color": "#a6cee3"
          },
          "type": "rect",
          "x0": 376,
          "x1": 403,
          "y0": 1.2,
          "y1": 1.275
         },
         {
          "fillcolor": "#b30000",
          "line": {
           "color": "#b30000"
          },
          "type": "rect",
          "x0": 376,
          "x1": 377,
          "y0": 1.2,
          "y1": 1.275
         },
         {
          "fillcolor": "#a6cee3",
          "line": {
           "color": "#a6cee3"
          },
          "type": "rect",
          "x0": 0,
          "x1": 24,
          "y0": 0.3,
          "y1": 0.375
         },
         {
          "fillcolor": "#A8A29E",
          "line": {
           "color": "#A8A29E"
          },
          "type": "rect",
          "x0": 5,
          "x1": 6,
          "y0": 0.3,
          "y1": 0.375
         },
         {
          "fillcolor": "#a6cee3",
          "line": {
           "color": "#a6cee3"
          },
          "type": "rect",
          "x0": 308,
          "x1": 331,
          "y0": 0.4,
          "y1": 0.47500000000000003
         },
         {
          "fillcolor": "#b30000",
          "line": {
           "color": "#b30000"
          },
          "type": "rect",
          "x0": 329,
          "x1": 330,
          "y0": 0.4,
          "y1": 0.47500000000000003
         },
         {
          "fillcolor": "#a6cee3",
          "line": {
           "color": "#a6cee3"
          },
          "type": "rect",
          "x0": 166,
          "x1": 188,
          "y0": 1.1,
          "y1": 1.175
         },
         {
          "fillcolor": "#A8A29E",
          "line": {
           "color": "#A8A29E"
          },
          "type": "rect",
          "x0": 185,
          "x1": 186,
          "y0": 1.1,
          "y1": 1.175
         },
         {
          "fillcolor": "#a6cee3",
          "line": {
           "color": "#a6cee3"
          },
          "type": "rect",
          "x0": 50,
          "x1": 71,
          "y0": 0.3,
          "y1": 0.375
         },
         {
          "fillcolor": "#a6cee3",
          "line": {
           "color": "#a6cee3"
          },
          "type": "rect",
          "x0": 33,
          "x1": 54,
          "y0": 0.4,
          "y1": 0.47500000000000003
         },
         {
          "fillcolor": "#a6cee3",
          "line": {
           "color": "#a6cee3"
          },
          "type": "rect",
          "x0": 67,
          "x1": 86,
          "y0": 0.4,
          "y1": 0.47500000000000003
         },
         {
          "fillcolor": "#a6cee3",
          "line": {
           "color": "#a6cee3"
          },
          "type": "rect",
          "x0": 108,
          "x1": 127,
          "y0": 0.3,
          "y1": 0.375
         },
         {
          "fillcolor": "#a6cee3",
          "line": {
           "color": "#a6cee3"
          },
          "type": "rect",
          "x0": 53,
          "x1": 71,
          "y0": 0.5,
          "y1": 0.575
         },
         {
          "fillcolor": "#000000",
          "line": {
           "color": "#000000"
          },
          "type": "rect",
          "x0": 54,
          "x1": 55,
          "y0": 0.5,
          "y1": 0.575
         },
         {
          "fillcolor": "#a6cee3",
          "line": {
           "color": "#a6cee3"
          },
          "type": "rect",
          "x0": 20,
          "x1": 38,
          "y0": 0.5,
          "y1": 0.575
         },
         {
          "fillcolor": "#a6cee3",
          "line": {
           "color": "#a6cee3"
          },
          "type": "rect",
          "x0": 94,
          "x1": 110,
          "y0": 0.4,
          "y1": 0.47500000000000003
         },
         {
          "fillcolor": "#a6cee3",
          "line": {
           "color": "#a6cee3"
          },
          "type": "rect",
          "x0": 154,
          "x1": 169,
          "y0": 1,
          "y1": 1.075
         },
         {
          "fillcolor": "#b30000",
          "line": {
           "color": "#b30000"
          },
          "type": "rect",
          "x0": 154,
          "x1": 155,
          "y0": 1,
          "y1": 1.075
         },
         {
          "fillcolor": "#a6cee3",
          "line": {
           "color": "#a6cee3"
          },
          "type": "rect",
          "x0": 166,
          "x1": 180,
          "y0": 1.2,
          "y1": 1.275
         },
         {
          "fillcolor": "#b30000",
          "line": {
           "color": "#b30000"
          },
          "type": "rect",
          "x0": 179,
          "x1": 180,
          "y0": 1.2,
          "y1": 1.275
         },
         {
          "fillcolor": "#a6cee3",
          "line": {
           "color": "#a6cee3"
          },
          "type": "rect",
          "x0": 166,
          "x1": 180,
          "y0": 1.3,
          "y1": 1.375
         },
         {
          "fillcolor": "#b30000",
          "line": {
           "color": "#b30000"
          },
          "type": "rect",
          "x0": 179,
          "x1": 180,
          "y0": 1.3,
          "y1": 1.375
         },
         {
          "fillcolor": "#a6cee3",
          "line": {
           "color": "#a6cee3"
          },
          "type": "rect",
          "x0": 286,
          "x1": 299,
          "y0": 0.9000000000000001,
          "y1": 0.9750000000000001
         },
         {
          "fillcolor": "#000000",
          "line": {
           "color": "#000000"
          },
          "type": "rect",
          "x0": 286,
          "x1": 287,
          "y0": 0.9000000000000001,
          "y1": 0.9750000000000001
         },
         {
          "fillcolor": "#a6cee3",
          "line": {
           "color": "#a6cee3"
          },
          "type": "rect",
          "x0": 85,
          "x1": 98,
          "y0": 0.3,
          "y1": 0.375
         },
         {
          "fillcolor": "#b30000",
          "line": {
           "color": "#b30000"
          },
          "type": "rect",
          "x0": 95,
          "x1": 96,
          "y0": 0.3,
          "y1": 0.375
         },
         {
          "fillcolor": "#a6cee3",
          "line": {
           "color": "#a6cee3"
          },
          "type": "rect",
          "x0": 85,
          "x1": 98,
          "y0": 0.5,
          "y1": 0.575
         }
        ],
        "showlegend": true,
        "template": {
         "data": {
          "bar": [
           {
            "error_x": {
             "color": "#2a3f5f"
            },
            "error_y": {
             "color": "#2a3f5f"
            },
            "marker": {
             "line": {
              "color": "#E5ECF6",
              "width": 0.5
             },
             "pattern": {
              "fillmode": "overlay",
              "size": 10,
              "solidity": 0.2
             }
            },
            "type": "bar"
           }
          ],
          "barpolar": [
           {
            "marker": {
             "line": {
              "color": "#E5ECF6",
              "width": 0.5
             },
             "pattern": {
              "fillmode": "overlay",
              "size": 10,
              "solidity": 0.2
             }
            },
            "type": "barpolar"
           }
          ],
          "carpet": [
           {
            "aaxis": {
             "endlinecolor": "#2a3f5f",
             "gridcolor": "white",
             "linecolor": "white",
             "minorgridcolor": "white",
             "startlinecolor": "#2a3f5f"
            },
            "baxis": {
             "endlinecolor": "#2a3f5f",
             "gridcolor": "white",
             "linecolor": "white",
             "minorgridcolor": "white",
             "startlinecolor": "#2a3f5f"
            },
            "type": "carpet"
           }
          ],
          "choropleth": [
           {
            "colorbar": {
             "outlinewidth": 0,
             "ticks": ""
            },
            "type": "choropleth"
           }
          ],
          "contour": [
           {
            "colorbar": {
             "outlinewidth": 0,
             "ticks": ""
            },
            "colorscale": [
             [
              0,
              "#0d0887"
             ],
             [
              0.1111111111111111,
              "#46039f"
             ],
             [
              0.2222222222222222,
              "#7201a8"
             ],
             [
              0.3333333333333333,
              "#9c179e"
             ],
             [
              0.4444444444444444,
              "#bd3786"
             ],
             [
              0.5555555555555556,
              "#d8576b"
             ],
             [
              0.6666666666666666,
              "#ed7953"
             ],
             [
              0.7777777777777778,
              "#fb9f3a"
             ],
             [
              0.8888888888888888,
              "#fdca26"
             ],
             [
              1,
              "#f0f921"
             ]
            ],
            "type": "contour"
           }
          ],
          "contourcarpet": [
           {
            "colorbar": {
             "outlinewidth": 0,
             "ticks": ""
            },
            "type": "contourcarpet"
           }
          ],
          "heatmap": [
           {
            "colorbar": {
             "outlinewidth": 0,
             "ticks": ""
            },
            "colorscale": [
             [
              0,
              "#0d0887"
             ],
             [
              0.1111111111111111,
              "#46039f"
             ],
             [
              0.2222222222222222,
              "#7201a8"
             ],
             [
              0.3333333333333333,
              "#9c179e"
             ],
             [
              0.4444444444444444,
              "#bd3786"
             ],
             [
              0.5555555555555556,
              "#d8576b"
             ],
             [
              0.6666666666666666,
              "#ed7953"
             ],
             [
              0.7777777777777778,
              "#fb9f3a"
             ],
             [
              0.8888888888888888,
              "#fdca26"
             ],
             [
              1,
              "#f0f921"
             ]
            ],
            "type": "heatmap"
           }
          ],
          "histogram": [
           {
            "marker": {
             "pattern": {
              "fillmode": "overlay",
              "size": 10,
              "solidity": 0.2
             }
            },
            "type": "histogram"
           }
          ],
          "histogram2d": [
           {
            "colorbar": {
             "outlinewidth": 0,
             "ticks": ""
            },
            "colorscale": [
             [
              0,
              "#0d0887"
             ],
             [
              0.1111111111111111,
              "#46039f"
             ],
             [
              0.2222222222222222,
              "#7201a8"
             ],
             [
              0.3333333333333333,
              "#9c179e"
             ],
             [
              0.4444444444444444,
              "#bd3786"
             ],
             [
              0.5555555555555556,
              "#d8576b"
             ],
             [
              0.6666666666666666,
              "#ed7953"
             ],
             [
              0.7777777777777778,
              "#fb9f3a"
             ],
             [
              0.8888888888888888,
              "#fdca26"
             ],
             [
              1,
              "#f0f921"
             ]
            ],
            "type": "histogram2d"
           }
          ],
          "histogram2dcontour": [
           {
            "colorbar": {
             "outlinewidth": 0,
             "ticks": ""
            },
            "colorscale": [
             [
              0,
              "#0d0887"
             ],
             [
              0.1111111111111111,
              "#46039f"
             ],
             [
              0.2222222222222222,
              "#7201a8"
             ],
             [
              0.3333333333333333,
              "#9c179e"
             ],
             [
              0.4444444444444444,
              "#bd3786"
             ],
             [
              0.5555555555555556,
              "#d8576b"
             ],
             [
              0.6666666666666666,
              "#ed7953"
             ],
             [
              0.7777777777777778,
              "#fb9f3a"
             ],
             [
              0.8888888888888888,
              "#fdca26"
             ],
             [
              1,
              "#f0f921"
             ]
            ],
            "type": "histogram2dcontour"
           }
          ],
          "mesh3d": [
           {
            "colorbar": {
             "outlinewidth": 0,
             "ticks": ""
            },
            "type": "mesh3d"
           }
          ],
          "parcoords": [
           {
            "line": {
             "colorbar": {
              "outlinewidth": 0,
              "ticks": ""
             }
            },
            "type": "parcoords"
           }
          ],
          "pie": [
           {
            "automargin": true,
            "type": "pie"
           }
          ],
          "scatter": [
           {
            "fillpattern": {
             "fillmode": "overlay",
             "size": 10,
             "solidity": 0.2
            },
            "type": "scatter"
           }
          ],
          "scatter3d": [
           {
            "line": {
             "colorbar": {
              "outlinewidth": 0,
              "ticks": ""
             }
            },
            "marker": {
             "colorbar": {
              "outlinewidth": 0,
              "ticks": ""
             }
            },
            "type": "scatter3d"
           }
          ],
          "scattercarpet": [
           {
            "marker": {
             "colorbar": {
              "outlinewidth": 0,
              "ticks": ""
             }
            },
            "type": "scattercarpet"
           }
          ],
          "scattergeo": [
           {
            "marker": {
             "colorbar": {
              "outlinewidth": 0,
              "ticks": ""
             }
            },
            "type": "scattergeo"
           }
          ],
          "scattergl": [
           {
            "marker": {
             "colorbar": {
              "outlinewidth": 0,
              "ticks": ""
             }
            },
            "type": "scattergl"
           }
          ],
          "scattermap": [
           {
            "marker": {
             "colorbar": {
              "outlinewidth": 0,
              "ticks": ""
             }
            },
            "type": "scattermap"
           }
          ],
          "scattermapbox": [
           {
            "marker": {
             "colorbar": {
              "outlinewidth": 0,
              "ticks": ""
             }
            },
            "type": "scattermapbox"
           }
          ],
          "scatterpolar": [
           {
            "marker": {
             "colorbar": {
              "outlinewidth": 0,
              "ticks": ""
             }
            },
            "type": "scatterpolar"
           }
          ],
          "scatterpolargl": [
           {
            "marker": {
             "colorbar": {
              "outlinewidth": 0,
              "ticks": ""
             }
            },
            "type": "scatterpolargl"
           }
          ],
          "scatterternary": [
           {
            "marker": {
             "colorbar": {
              "outlinewidth": 0,
              "ticks": ""
             }
            },
            "type": "scatterternary"
           }
          ],
          "surface": [
           {
            "colorbar": {
             "outlinewidth": 0,
             "ticks": ""
            },
            "colorscale": [
             [
              0,
              "#0d0887"
             ],
             [
              0.1111111111111111,
              "#46039f"
             ],
             [
              0.2222222222222222,
              "#7201a8"
             ],
             [
              0.3333333333333333,
              "#9c179e"
             ],
             [
              0.4444444444444444,
              "#bd3786"
             ],
             [
              0.5555555555555556,
              "#d8576b"
             ],
             [
              0.6666666666666666,
              "#ed7953"
             ],
             [
              0.7777777777777778,
              "#fb9f3a"
             ],
             [
              0.8888888888888888,
              "#fdca26"
             ],
             [
              1,
              "#f0f921"
             ]
            ],
            "type": "surface"
           }
          ],
          "table": [
           {
            "cells": {
             "fill": {
              "color": "#EBF0F8"
             },
             "line": {
              "color": "white"
             }
            },
            "header": {
             "fill": {
              "color": "#C8D4E3"
             },
             "line": {
              "color": "white"
             }
            },
            "type": "table"
           }
          ]
         },
         "layout": {
          "annotationdefaults": {
           "arrowcolor": "#2a3f5f",
           "arrowhead": 0,
           "arrowwidth": 1
          },
          "autotypenumbers": "strict",
          "coloraxis": {
           "colorbar": {
            "outlinewidth": 0,
            "ticks": ""
           }
          },
          "colorscale": {
           "diverging": [
            [
             0,
             "#8e0152"
            ],
            [
             0.1,
             "#c51b7d"
            ],
            [
             0.2,
             "#de77ae"
            ],
            [
             0.3,
             "#f1b6da"
            ],
            [
             0.4,
             "#fde0ef"
            ],
            [
             0.5,
             "#f7f7f7"
            ],
            [
             0.6,
             "#e6f5d0"
            ],
            [
             0.7,
             "#b8e186"
            ],
            [
             0.8,
             "#7fbc41"
            ],
            [
             0.9,
             "#4d9221"
            ],
            [
             1,
             "#276419"
            ]
           ],
           "sequential": [
            [
             0,
             "#0d0887"
            ],
            [
             0.1111111111111111,
             "#46039f"
            ],
            [
             0.2222222222222222,
             "#7201a8"
            ],
            [
             0.3333333333333333,
             "#9c179e"
            ],
            [
             0.4444444444444444,
             "#bd3786"
            ],
            [
             0.5555555555555556,
             "#d8576b"
            ],
            [
             0.6666666666666666,
             "#ed7953"
            ],
            [
             0.7777777777777778,
             "#fb9f3a"
            ],
            [
             0.8888888888888888,
             "#fdca26"
            ],
            [
             1,
             "#f0f921"
            ]
           ],
           "sequentialminus": [
            [
             0,
             "#0d0887"
            ],
            [
             0.1111111111111111,
             "#46039f"
            ],
            [
             0.2222222222222222,
             "#7201a8"
            ],
            [
             0.3333333333333333,
             "#9c179e"
            ],
            [
             0.4444444444444444,
             "#bd3786"
            ],
            [
             0.5555555555555556,
             "#d8576b"
            ],
            [
             0.6666666666666666,
             "#ed7953"
            ],
            [
             0.7777777777777778,
             "#fb9f3a"
            ],
            [
             0.8888888888888888,
             "#fdca26"
            ],
            [
             1,
             "#f0f921"
            ]
           ]
          },
          "colorway": [
           "#636efa",
           "#EF553B",
           "#00cc96",
           "#ab63fa",
           "#FFA15A",
           "#19d3f3",
           "#FF6692",
           "#B6E880",
           "#FF97FF",
           "#FECB52"
          ],
          "font": {
           "color": "#2a3f5f"
          },
          "geo": {
           "bgcolor": "white",
           "lakecolor": "white",
           "landcolor": "#E5ECF6",
           "showlakes": true,
           "showland": true,
           "subunitcolor": "white"
          },
          "hoverlabel": {
           "align": "left"
          },
          "hovermode": "closest",
          "mapbox": {
           "style": "light"
          },
          "paper_bgcolor": "white",
          "plot_bgcolor": "#E5ECF6",
          "polar": {
           "angularaxis": {
            "gridcolor": "white",
            "linecolor": "white",
            "ticks": ""
           },
           "bgcolor": "#E5ECF6",
           "radialaxis": {
            "gridcolor": "white",
            "linecolor": "white",
            "ticks": ""
           }
          },
          "scene": {
           "xaxis": {
            "backgroundcolor": "#E5ECF6",
            "gridcolor": "white",
            "gridwidth": 2,
            "linecolor": "white",
            "showbackground": true,
            "ticks": "",
            "zerolinecolor": "white"
           },
           "yaxis": {
            "backgroundcolor": "#E5ECF6",
            "gridcolor": "white",
            "gridwidth": 2,
            "linecolor": "white",
            "showbackground": true,
            "ticks": "",
            "zerolinecolor": "white"
           },
           "zaxis": {
            "backgroundcolor": "#E5ECF6",
            "gridcolor": "white",
            "gridwidth": 2,
            "linecolor": "white",
            "showbackground": true,
            "ticks": "",
            "zerolinecolor": "white"
           }
          },
          "shapedefaults": {
           "line": {
            "color": "#2a3f5f"
           }
          },
          "ternary": {
           "aaxis": {
            "gridcolor": "white",
            "linecolor": "white",
            "ticks": ""
           },
           "baxis": {
            "gridcolor": "white",
            "linecolor": "white",
            "ticks": ""
           },
           "bgcolor": "#E5ECF6",
           "caxis": {
            "gridcolor": "white",
            "linecolor": "white",
            "ticks": ""
           }
          },
          "title": {
           "x": 0.05
          },
          "xaxis": {
           "automargin": true,
           "gridcolor": "white",
           "linecolor": "white",
           "ticks": "",
           "title": {
            "standoff": 15
           },
           "zerolinecolor": "white",
           "zerolinewidth": 2
          },
          "yaxis": {
           "automargin": true,
           "gridcolor": "white",
           "linecolor": "white",
           "ticks": "",
           "title": {
            "standoff": 15
           },
           "zerolinecolor": "white",
           "zerolinewidth": 2
          }
         }
        },
        "title": {
         "text": "Contig mapping to reference sequence, ma1"
        },
        "width": 1200,
        "xaxis": {
         "range": [
          0,
          458
         ],
         "showgrid": false,
         "title": {
          "text": "Sequence range"
         }
        },
        "yaxis": {
         "range": [
          0,
          1.5000000000000002
         ],
         "showgrid": false,
         "showticklabels": false,
         "zeroline": false
        }
       }
      }
     },
     "metadata": {},
     "output_type": "display_data"
    }
   ],
   "source": [
    "map.mapping_substitutions(mapped_sequences = mapped_contigs,\n",
    "                          prot_seq = protein_norm,\n",
    "                          title= f\"Contig mapping to reference sequence, {run}\",\n",
    "                          contig_colors = get_colors_from_run(\"nanobodies\", is_scaffold=False),\n",
    "                          match_color = get_colors_from_run(\"bsa\", is_scaffold=False),\n",
    "                          output_file=f\"fig_X_{run}_substitution_map_contigs_dbg.svg\",\n",
    "                          output_folder=\".\"\n",
    "                          )"
   ]
  },
  {
   "cell_type": "raw",
   "id": "b2419c98",
   "metadata": {
    "vscode": {
     "languageId": "raw"
    }
   },
   "source": [
    "assembled_scaffolds = dbg.scaffold_iterative(assembled_contigs, min_overlap, size_threshold)"
   ]
  },
  {
   "cell_type": "markdown",
   "id": "da367e3b",
   "metadata": {},
   "source": [
    "In case scaffold_iterative is too slow or does not work, it is recommeneded to run only the few iteration in the following raw cell"
   ]
  },
  {
   "cell_type": "code",
   "execution_count": 37,
   "id": "64653e54",
   "metadata": {},
   "outputs": [
    {
     "name": "stderr",
     "output_type": "stream",
     "text": [
      "Finding overlaps: 100%|██████████| 48205/48205 [00:00<00:00, 95651.32it/s] \n",
      "Merging overlaps: 100%|██████████| 122/122 [00:00<00:00, 581483.05it/s]\n",
      "Merging contigs: 100%|██████████| 433/433 [00:00<00:00, 20767.68it/s]\n"
     ]
    }
   ],
   "source": [
    "assembled_scaffolds = dbg.create_scaffolds(assembled_contigs, min_overlap)\n",
    "\n",
    "assembled_scaffolds = list(set(assembled_scaffolds))\n",
    "    \n",
    "assembled_scaffolds = sorted(assembled_scaffolds, key=len, reverse=True)\n",
    "    \n",
    "assembled_scaffolds = [scaffold for scaffold in assembled_scaffolds if len(scaffold) > size_threshold]\n",
    "\n",
    "assembled_scaffolds = dbg.merge_sequences(assembled_scaffolds)\n",
    "    \n",
    "assembled_scaffolds = list(set(assembled_scaffolds))\n",
    "    \n",
    "assembled_scaffolds = sorted(assembled_scaffolds, key=len, reverse=True)\n",
    "    \n",
    "assembled_scaffolds = [scaffold for scaffold in assembled_scaffolds if len(scaffold) > size_threshold]"
   ]
  },
  {
   "cell_type": "code",
   "execution_count": 38,
   "id": "98a93c3e",
   "metadata": {},
   "outputs": [],
   "source": [
    "records = []\n",
    "for i, seq in enumerate(assembled_scaffolds):\n",
    "    record = Bio.SeqRecord.SeqRecord(Bio.Seq.Seq(seq), id=f\"scaffold_{i+1}\", description=f\"length: {len(seq)}\")\n",
    "    records.append(record)"
   ]
  },
  {
   "cell_type": "code",
   "execution_count": 39,
   "id": "a72fb26e",
   "metadata": {},
   "outputs": [
    {
     "data": {
      "text/plain": [
       "354"
      ]
     },
     "execution_count": 39,
     "metadata": {},
     "output_type": "execute_result"
    }
   ],
   "source": [
    "Bio.SeqIO.write(records, f\"{combination_folder_out}/scaffolds/{ass_method}_scaffold_{conf}_{kmer_size}_{run}.fasta\", \"fasta\")"
   ]
  },
  {
   "cell_type": "code",
   "execution_count": 40,
   "id": "012699cb",
   "metadata": {},
   "outputs": [],
   "source": [
    "mapped_scaffolds = map.process_protein_contigs_scaffold(assembled_scaffolds, protein_norm, max_mismatches, min_identity)"
   ]
  },
  {
   "cell_type": "code",
   "execution_count": 41,
   "id": "ac2056dd",
   "metadata": {},
   "outputs": [],
   "source": [
    "df_scaffolds_mapped = map.create_dataframe_from_mapped_sequences(data = mapped_scaffolds)"
   ]
  },
  {
   "cell_type": "code",
   "execution_count": 42,
   "id": "818e48e2",
   "metadata": {},
   "outputs": [
    {
     "data": {
      "text/plain": [
       "{'ass_method': 'dbg',\n",
       " 'conf': 0.9,\n",
       " 'kmer_size': 7,\n",
       " 'min_overlap': 3,\n",
       " 'min_identity': 0.9,\n",
       " 'max_mismatches': 10,\n",
       " 'size_threshold': 10,\n",
       " 'reference_start': 0,\n",
       " 'reference_end': 459,\n",
       " 'total_sequences': 51,\n",
       " 'average_length': 51.372549019607845,\n",
       " 'min_length': 14,\n",
       " 'max_length': 103,\n",
       " 'coverage': 0.9629629629629629,\n",
       " 'mean_identity': 0.960236085596241,\n",
       " 'median_identity': 0.9583333333333334,\n",
       " 'perfect_matches': 9,\n",
       " 'total_mismatches': 31,\n",
       " 'N50': 59,\n",
       " 'N90': 33}"
      ]
     },
     "execution_count": 42,
     "metadata": {},
     "output_type": "execute_result"
    }
   ],
   "source": [
    "comp_stat.compute_assembly_statistics(df = df_scaffolds_mapped, sequence_type='scaffolds', output_folder = f\"{combination_folder_out}/statistics\", reference = protein_norm, **params)"
   ]
  },
  {
   "cell_type": "code",
   "execution_count": 43,
   "id": "ae869804",
   "metadata": {},
   "outputs": [
    {
     "name": "stderr",
     "output_type": "stream",
     "text": [
      "Plotting contigs: 100%|██████████| 51/51 [00:03<00:00, 12.90it/s]\n"
     ]
    },
    {
     "name": "stdout",
     "output_type": "stream",
     "text": [
      "Plotted 51 sequences.\n"
     ]
    },
    {
     "data": {
      "application/vnd.plotly.v1+json": {
       "config": {
        "plotlyServerURL": "https://plot.ly"
       },
       "data": [
        {
         "marker": {
          "color": "#e34a33",
          "size": 10
         },
         "mode": "markers",
         "name": "Match",
         "type": "scatter",
         "x": [
          null
         ],
         "y": [
          null
         ]
        },
        {
         "marker": {
          "color": "#b30000",
          "size": 10
         },
         "mode": "markers",
         "name": "Mismatch",
         "type": "scatter",
         "x": [
          null
         ],
         "y": [
          null
         ]
        },
        {
         "marker": {
          "color": "#000000",
          "size": 10
         },
         "mode": "markers",
         "name": "Seq:D → Ref:N",
         "type": "scatter",
         "x": [
          null
         ],
         "y": [
          null
         ]
        },
        {
         "marker": {
          "color": "#A8A29E",
          "size": 10
         },
         "mode": "markers",
         "name": "Seq:E → Ref:Q",
         "type": "scatter",
         "x": [
          null
         ],
         "y": [
          null
         ]
        }
       ],
       "layout": {
        "font": {
         "color": "black",
         "family": "Arial, sans-serif",
         "size": 14
        },
        "height": 400,
        "legend": {
         "orientation": "h",
         "title": {
          "text": "Legend"
         },
         "x": 0.5,
         "xanchor": "center",
         "y": 1.05,
         "yanchor": "bottom"
        },
        "plot_bgcolor": "white",
        "shapes": [
         {
          "fillcolor": "#e6f0ef",
          "line": {
           "width": 0
          },
          "type": "rect",
          "x0": 0,
          "x1": 458,
          "y0": 0,
          "y1": 0.2
         },
         {
          "fillcolor": "#e34a33",
          "line": {
           "color": "#e34a33"
          },
          "type": "rect",
          "x0": 123,
          "x1": 225,
          "y0": 0.3,
          "y1": 0.375
         },
         {
          "fillcolor": "#e34a33",
          "line": {
           "color": "#e34a33"
          },
          "type": "rect",
          "x0": 308,
          "x1": 403,
          "y0": 0.3,
          "y1": 0.375
         },
         {
          "fillcolor": "#e34a33",
          "line": {
           "color": "#e34a33"
          },
          "type": "rect",
          "x0": 312,
          "x1": 403,
          "y0": 0.4,
          "y1": 0.47500000000000003
         },
         {
          "fillcolor": "#b30000",
          "line": {
           "color": "#b30000"
          },
          "type": "rect",
          "x0": 312,
          "x1": 313,
          "y0": 0.4,
          "y1": 0.47500000000000003
         },
         {
          "fillcolor": "#b30000",
          "line": {
           "color": "#b30000"
          },
          "type": "rect",
          "x0": 315,
          "x1": 316,
          "y0": 0.4,
          "y1": 0.47500000000000003
         },
         {
          "fillcolor": "#b30000",
          "line": {
           "color": "#b30000"
          },
          "type": "rect",
          "x0": 317,
          "x1": 318,
          "y0": 0.4,
          "y1": 0.47500000000000003
         },
         {
          "fillcolor": "#b30000",
          "line": {
           "color": "#b30000"
          },
          "type": "rect",
          "x0": 318,
          "x1": 319,
          "y0": 0.4,
          "y1": 0.47500000000000003
         },
         {
          "fillcolor": "#b30000",
          "line": {
           "color": "#b30000"
          },
          "type": "rect",
          "x0": 319,
          "x1": 320,
          "y0": 0.4,
          "y1": 0.47500000000000003
         },
         {
          "fillcolor": "#A8A29E",
          "line": {
           "color": "#A8A29E"
          },
          "type": "rect",
          "x0": 321,
          "x1": 322,
          "y0": 0.4,
          "y1": 0.47500000000000003
         },
         {
          "fillcolor": "#e34a33",
          "line": {
           "color": "#e34a33"
          },
          "type": "rect",
          "x0": 123,
          "x1": 209,
          "y0": 0.4,
          "y1": 0.47500000000000003
         },
         {
          "fillcolor": "#A8A29E",
          "line": {
           "color": "#A8A29E"
          },
          "type": "rect",
          "x0": 206,
          "x1": 207,
          "y0": 0.4,
          "y1": 0.47500000000000003
         },
         {
          "fillcolor": "#e34a33",
          "line": {
           "color": "#e34a33"
          },
          "type": "rect",
          "x0": 317,
          "x1": 403,
          "y0": 0.5,
          "y1": 0.575
         },
         {
          "fillcolor": "#b30000",
          "line": {
           "color": "#b30000"
          },
          "type": "rect",
          "x0": 317,
          "x1": 318,
          "y0": 0.5,
          "y1": 0.575
         },
         {
          "fillcolor": "#b30000",
          "line": {
           "color": "#b30000"
          },
          "type": "rect",
          "x0": 318,
          "x1": 319,
          "y0": 0.5,
          "y1": 0.575
         },
         {
          "fillcolor": "#e34a33",
          "line": {
           "color": "#e34a33"
          },
          "type": "rect",
          "x0": 318,
          "x1": 403,
          "y0": 0.6000000000000001,
          "y1": 0.675
         },
         {
          "fillcolor": "#b30000",
          "line": {
           "color": "#b30000"
          },
          "type": "rect",
          "x0": 318,
          "x1": 319,
          "y0": 0.6000000000000001,
          "y1": 0.675
         },
         {
          "fillcolor": "#b30000",
          "line": {
           "color": "#b30000"
          },
          "type": "rect",
          "x0": 319,
          "x1": 320,
          "y0": 0.6000000000000001,
          "y1": 0.675
         },
         {
          "fillcolor": "#b30000",
          "line": {
           "color": "#b30000"
          },
          "type": "rect",
          "x0": 320,
          "x1": 321,
          "y0": 0.6000000000000001,
          "y1": 0.675
         },
         {
          "fillcolor": "#b30000",
          "line": {
           "color": "#b30000"
          },
          "type": "rect",
          "x0": 321,
          "x1": 322,
          "y0": 0.6000000000000001,
          "y1": 0.675
         },
         {
          "fillcolor": "#b30000",
          "line": {
           "color": "#b30000"
          },
          "type": "rect",
          "x0": 322,
          "x1": 323,
          "y0": 0.6000000000000001,
          "y1": 0.675
         },
         {
          "fillcolor": "#b30000",
          "line": {
           "color": "#b30000"
          },
          "type": "rect",
          "x0": 323,
          "x1": 324,
          "y0": 0.6000000000000001,
          "y1": 0.675
         },
         {
          "fillcolor": "#e34a33",
          "line": {
           "color": "#e34a33"
          },
          "type": "rect",
          "x0": 308,
          "x1": 381,
          "y0": 0.7,
          "y1": 0.7749999999999999
         },
         {
          "fillcolor": "#b30000",
          "line": {
           "color": "#b30000"
          },
          "type": "rect",
          "x0": 377,
          "x1": 378,
          "y0": 0.7,
          "y1": 0.7749999999999999
         },
         {
          "fillcolor": "#e34a33",
          "line": {
           "color": "#e34a33"
          },
          "type": "rect",
          "x0": 154,
          "x1": 225,
          "y0": 0.5,
          "y1": 0.575
         },
         {
          "fillcolor": "#b30000",
          "line": {
           "color": "#b30000"
          },
          "type": "rect",
          "x0": 154,
          "x1": 155,
          "y0": 0.5,
          "y1": 0.575
         },
         {
          "fillcolor": "#e34a33",
          "line": {
           "color": "#e34a33"
          },
          "type": "rect",
          "x0": 333,
          "x1": 403,
          "y0": 0.8,
          "y1": 0.875
         },
         {
          "fillcolor": "#000000",
          "line": {
           "color": "#000000"
          },
          "type": "rect",
          "x0": 335,
          "x1": 336,
          "y0": 0.8,
          "y1": 0.875
         },
         {
          "fillcolor": "#e34a33",
          "line": {
           "color": "#e34a33"
          },
          "type": "rect",
          "x0": 333,
          "x1": 403,
          "y0": 0.9000000000000001,
          "y1": 0.9750000000000001
         },
         {
          "fillcolor": "#b30000",
          "line": {
           "color": "#b30000"
          },
          "type": "rect",
          "x0": 334,
          "x1": 335,
          "y0": 0.9000000000000001,
          "y1": 0.9750000000000001
         },
         {
          "fillcolor": "#b30000",
          "line": {
           "color": "#b30000"
          },
          "type": "rect",
          "x0": 335,
          "x1": 336,
          "y0": 0.9000000000000001,
          "y1": 0.9750000000000001
         },
         {
          "fillcolor": "#b30000",
          "line": {
           "color": "#b30000"
          },
          "type": "rect",
          "x0": 336,
          "x1": 337,
          "y0": 0.9000000000000001,
          "y1": 0.9750000000000001
         },
         {
          "fillcolor": "#b30000",
          "line": {
           "color": "#b30000"
          },
          "type": "rect",
          "x0": 338,
          "x1": 339,
          "y0": 0.9000000000000001,
          "y1": 0.9750000000000001
         },
         {
          "fillcolor": "#e34a33",
          "line": {
           "color": "#e34a33"
          },
          "type": "rect",
          "x0": 333,
          "x1": 403,
          "y0": 1,
          "y1": 1.075
         },
         {
          "fillcolor": "#b30000",
          "line": {
           "color": "#b30000"
          },
          "type": "rect",
          "x0": 333,
          "x1": 334,
          "y0": 1,
          "y1": 1.075
         },
         {
          "fillcolor": "#b30000",
          "line": {
           "color": "#b30000"
          },
          "type": "rect",
          "x0": 334,
          "x1": 335,
          "y0": 1,
          "y1": 1.075
         },
         {
          "fillcolor": "#b30000",
          "line": {
           "color": "#b30000"
          },
          "type": "rect",
          "x0": 335,
          "x1": 336,
          "y0": 1,
          "y1": 1.075
         },
         {
          "fillcolor": "#e34a33",
          "line": {
           "color": "#e34a33"
          },
          "type": "rect",
          "x0": 337,
          "x1": 403,
          "y0": 1.1,
          "y1": 1.175
         },
         {
          "fillcolor": "#b30000",
          "line": {
           "color": "#b30000"
          },
          "type": "rect",
          "x0": 337,
          "x1": 338,
          "y0": 1.1,
          "y1": 1.175
         },
         {
          "fillcolor": "#e34a33",
          "line": {
           "color": "#e34a33"
          },
          "type": "rect",
          "x0": 123,
          "x1": 188,
          "y0": 0.6000000000000001,
          "y1": 0.675
         },
         {
          "fillcolor": "#A8A29E",
          "line": {
           "color": "#A8A29E"
          },
          "type": "rect",
          "x0": 185,
          "x1": 186,
          "y0": 0.6000000000000001,
          "y1": 0.675
         },
         {
          "fillcolor": "#e34a33",
          "line": {
           "color": "#e34a33"
          },
          "type": "rect",
          "x0": 317,
          "x1": 381,
          "y0": 1.2,
          "y1": 1.275
         },
         {
          "fillcolor": "#b30000",
          "line": {
           "color": "#b30000"
          },
          "type": "rect",
          "x0": 317,
          "x1": 318,
          "y0": 1.2,
          "y1": 1.275
         },
         {
          "fillcolor": "#b30000",
          "line": {
           "color": "#b30000"
          },
          "type": "rect",
          "x0": 318,
          "x1": 319,
          "y0": 1.2,
          "y1": 1.275
         },
         {
          "fillcolor": "#b30000",
          "line": {
           "color": "#b30000"
          },
          "type": "rect",
          "x0": 377,
          "x1": 378,
          "y0": 1.2,
          "y1": 1.275
         },
         {
          "fillcolor": "#e34a33",
          "line": {
           "color": "#e34a33"
          },
          "type": "rect",
          "x0": 235,
          "x1": 299,
          "y0": 0.3,
          "y1": 0.375
         },
         {
          "fillcolor": "#b30000",
          "line": {
           "color": "#b30000"
          },
          "type": "rect",
          "x0": 235,
          "x1": 236,
          "y0": 0.3,
          "y1": 0.375
         },
         {
          "fillcolor": "#b30000",
          "line": {
           "color": "#b30000"
          },
          "type": "rect",
          "x0": 236,
          "x1": 237,
          "y0": 0.3,
          "y1": 0.375
         },
         {
          "fillcolor": "#e34a33",
          "line": {
           "color": "#e34a33"
          },
          "type": "rect",
          "x0": 108,
          "x1": 169,
          "y0": 0.7,
          "y1": 0.7749999999999999
         },
         {
          "fillcolor": "#e34a33",
          "line": {
           "color": "#e34a33"
          },
          "type": "rect",
          "x0": 165,
          "x1": 225,
          "y0": 0.8,
          "y1": 0.875
         },
         {
          "fillcolor": "#b30000",
          "line": {
           "color": "#b30000"
          },
          "type": "rect",
          "x0": 165,
          "x1": 166,
          "y0": 0.8,
          "y1": 0.875
         },
         {
          "fillcolor": "#b30000",
          "line": {
           "color": "#b30000"
          },
          "type": "rect",
          "x0": 166,
          "x1": 167,
          "y0": 0.8,
          "y1": 0.875
         },
         {
          "fillcolor": "#e34a33",
          "line": {
           "color": "#e34a33"
          },
          "type": "rect",
          "x0": 235,
          "x1": 293,
          "y0": 0.4,
          "y1": 0.47500000000000003
         },
         {
          "fillcolor": "#b30000",
          "line": {
           "color": "#b30000"
          },
          "type": "rect",
          "x0": 235,
          "x1": 236,
          "y0": 0.4,
          "y1": 0.47500000000000003
         },
         {
          "fillcolor": "#b30000",
          "line": {
           "color": "#b30000"
          },
          "type": "rect",
          "x0": 236,
          "x1": 237,
          "y0": 0.4,
          "y1": 0.47500000000000003
         },
         {
          "fillcolor": "#b30000",
          "line": {
           "color": "#b30000"
          },
          "type": "rect",
          "x0": 291,
          "x1": 292,
          "y0": 0.4,
          "y1": 0.47500000000000003
         },
         {
          "fillcolor": "#b30000",
          "line": {
           "color": "#b30000"
          },
          "type": "rect",
          "x0": 292,
          "x1": 293,
          "y0": 0.4,
          "y1": 0.47500000000000003
         },
         {
          "fillcolor": "#e34a33",
          "line": {
           "color": "#e34a33"
          },
          "type": "rect",
          "x0": 123,
          "x1": 180,
          "y0": 0.9000000000000001,
          "y1": 0.9750000000000001
         },
         {
          "fillcolor": "#b30000",
          "line": {
           "color": "#b30000"
          },
          "type": "rect",
          "x0": 179,
          "x1": 180,
          "y0": 0.9000000000000001,
          "y1": 0.9750000000000001
         },
         {
          "fillcolor": "#e34a33",
          "line": {
           "color": "#e34a33"
          },
          "type": "rect",
          "x0": 123,
          "x1": 180,
          "y0": 1,
          "y1": 1.075
         },
         {
          "fillcolor": "#b30000",
          "line": {
           "color": "#b30000"
          },
          "type": "rect",
          "x0": 179,
          "x1": 180,
          "y0": 1,
          "y1": 1.075
         },
         {
          "fillcolor": "#e34a33",
          "line": {
           "color": "#e34a33"
          },
          "type": "rect",
          "x0": 169,
          "x1": 225,
          "y0": 1.1,
          "y1": 1.175
         },
         {
          "fillcolor": "#000000",
          "line": {
           "color": "#000000"
          },
          "type": "rect",
          "x0": 169,
          "x1": 170,
          "y0": 1.1,
          "y1": 1.175
         },
         {
          "fillcolor": "#e34a33",
          "line": {
           "color": "#e34a33"
          },
          "type": "rect",
          "x0": 154,
          "x1": 209,
          "y0": 1.2,
          "y1": 1.275
         },
         {
          "fillcolor": "#b30000",
          "line": {
           "color": "#b30000"
          },
          "type": "rect",
          "x0": 154,
          "x1": 155,
          "y0": 1.2,
          "y1": 1.275
         },
         {
          "fillcolor": "#A8A29E",
          "line": {
           "color": "#A8A29E"
          },
          "type": "rect",
          "x0": 206,
          "x1": 207,
          "y0": 1.2,
          "y1": 1.275
         },
         {
          "fillcolor": "#e34a33",
          "line": {
           "color": "#e34a33"
          },
          "type": "rect",
          "x0": 244,
          "x1": 299,
          "y0": 0.5,
          "y1": 0.575
         },
         {
          "fillcolor": "#b30000",
          "line": {
           "color": "#b30000"
          },
          "type": "rect",
          "x0": 244,
          "x1": 245,
          "y0": 0.5,
          "y1": 0.575
         },
         {
          "fillcolor": "#b30000",
          "line": {
           "color": "#b30000"
          },
          "type": "rect",
          "x0": 245,
          "x1": 246,
          "y0": 0.5,
          "y1": 0.575
         },
         {
          "fillcolor": "#b30000",
          "line": {
           "color": "#b30000"
          },
          "type": "rect",
          "x0": 246,
          "x1": 247,
          "y0": 0.5,
          "y1": 0.575
         },
         {
          "fillcolor": "#b30000",
          "line": {
           "color": "#b30000"
          },
          "type": "rect",
          "x0": 247,
          "x1": 248,
          "y0": 0.5,
          "y1": 0.575
         },
         {
          "fillcolor": "#e34a33",
          "line": {
           "color": "#e34a33"
          },
          "type": "rect",
          "x0": 235,
          "x1": 287,
          "y0": 0.6000000000000001,
          "y1": 0.675
         },
         {
          "fillcolor": "#b30000",
          "line": {
           "color": "#b30000"
          },
          "type": "rect",
          "x0": 235,
          "x1": 236,
          "y0": 0.6000000000000001,
          "y1": 0.675
         },
         {
          "fillcolor": "#b30000",
          "line": {
           "color": "#b30000"
          },
          "type": "rect",
          "x0": 236,
          "x1": 237,
          "y0": 0.6000000000000001,
          "y1": 0.675
         },
         {
          "fillcolor": "#000000",
          "line": {
           "color": "#000000"
          },
          "type": "rect",
          "x0": 286,
          "x1": 287,
          "y0": 0.6000000000000001,
          "y1": 0.675
         },
         {
          "fillcolor": "#e34a33",
          "line": {
           "color": "#e34a33"
          },
          "type": "rect",
          "x0": 333,
          "x1": 381,
          "y0": 1.3,
          "y1": 1.375
         },
         {
          "fillcolor": "#000000",
          "line": {
           "color": "#000000"
          },
          "type": "rect",
          "x0": 335,
          "x1": 336,
          "y0": 1.3,
          "y1": 1.375
         },
         {
          "fillcolor": "#b30000",
          "line": {
           "color": "#b30000"
          },
          "type": "rect",
          "x0": 377,
          "x1": 378,
          "y0": 1.3,
          "y1": 1.375
         },
         {
          "fillcolor": "#e34a33",
          "line": {
           "color": "#e34a33"
          },
          "type": "rect",
          "x0": 333,
          "x1": 381,
          "y0": 1.4000000000000001,
          "y1": 1.475
         },
         {
          "fillcolor": "#b30000",
          "line": {
           "color": "#b30000"
          },
          "type": "rect",
          "x0": 333,
          "x1": 334,
          "y0": 1.4000000000000001,
          "y1": 1.475
         },
         {
          "fillcolor": "#b30000",
          "line": {
           "color": "#b30000"
          },
          "type": "rect",
          "x0": 334,
          "x1": 335,
          "y0": 1.4000000000000001,
          "y1": 1.475
         },
         {
          "fillcolor": "#b30000",
          "line": {
           "color": "#b30000"
          },
          "type": "rect",
          "x0": 335,
          "x1": 336,
          "y0": 1.4000000000000001,
          "y1": 1.475
         },
         {
          "fillcolor": "#b30000",
          "line": {
           "color": "#b30000"
          },
          "type": "rect",
          "x0": 377,
          "x1": 378,
          "y0": 1.4000000000000001,
          "y1": 1.475
         },
         {
          "fillcolor": "#e34a33",
          "line": {
           "color": "#e34a33"
          },
          "type": "rect",
          "x0": 178,
          "x1": 225,
          "y0": 0.7,
          "y1": 0.7749999999999999
         },
         {
          "fillcolor": "#b30000",
          "line": {
           "color": "#b30000"
          },
          "type": "rect",
          "x0": 178,
          "x1": 179,
          "y0": 0.7,
          "y1": 0.7749999999999999
         },
         {
          "fillcolor": "#b30000",
          "line": {
           "color": "#b30000"
          },
          "type": "rect",
          "x0": 179,
          "x1": 180,
          "y0": 0.7,
          "y1": 0.7749999999999999
         },
         {
          "fillcolor": "#e34a33",
          "line": {
           "color": "#e34a33"
          },
          "type": "rect",
          "x0": 337,
          "x1": 381,
          "y0": 1.5000000000000002,
          "y1": 1.5750000000000002
         },
         {
          "fillcolor": "#b30000",
          "line": {
           "color": "#b30000"
          },
          "type": "rect",
          "x0": 337,
          "x1": 338,
          "y0": 1.5000000000000002,
          "y1": 1.5750000000000002
         },
         {
          "fillcolor": "#b30000",
          "line": {
           "color": "#b30000"
          },
          "type": "rect",
          "x0": 377,
          "x1": 378,
          "y0": 1.5000000000000002,
          "y1": 1.5750000000000002
         },
         {
          "fillcolor": "#e34a33",
          "line": {
           "color": "#e34a33"
          },
          "type": "rect",
          "x0": 165,
          "x1": 209,
          "y0": 1.3,
          "y1": 1.375
         },
         {
          "fillcolor": "#b30000",
          "line": {
           "color": "#b30000"
          },
          "type": "rect",
          "x0": 165,
          "x1": 166,
          "y0": 1.3,
          "y1": 1.375
         },
         {
          "fillcolor": "#b30000",
          "line": {
           "color": "#b30000"
          },
          "type": "rect",
          "x0": 166,
          "x1": 167,
          "y0": 1.3,
          "y1": 1.375
         },
         {
          "fillcolor": "#A8A29E",
          "line": {
           "color": "#A8A29E"
          },
          "type": "rect",
          "x0": 206,
          "x1": 207,
          "y0": 1.3,
          "y1": 1.375
         },
         {
          "fillcolor": "#e34a33",
          "line": {
           "color": "#e34a33"
          },
          "type": "rect",
          "x0": 308,
          "x1": 349,
          "y0": 1.6,
          "y1": 1.675
         },
         {
          "fillcolor": "#b30000",
          "line": {
           "color": "#b30000"
          },
          "type": "rect",
          "x0": 345,
          "x1": 346,
          "y0": 1.6,
          "y1": 1.675
         },
         {
          "fillcolor": "#b30000",
          "line": {
           "color": "#b30000"
          },
          "type": "rect",
          "x0": 346,
          "x1": 347,
          "y0": 1.6,
          "y1": 1.675
         },
         {
          "fillcolor": "#e34a33",
          "line": {
           "color": "#e34a33"
          },
          "type": "rect",
          "x0": 169,
          "x1": 209,
          "y0": 1.4000000000000001,
          "y1": 1.475
         },
         {
          "fillcolor": "#000000",
          "line": {
           "color": "#000000"
          },
          "type": "rect",
          "x0": 169,
          "x1": 170,
          "y0": 1.4000000000000001,
          "y1": 1.475
         },
         {
          "fillcolor": "#A8A29E",
          "line": {
           "color": "#A8A29E"
          },
          "type": "rect",
          "x0": 206,
          "x1": 207,
          "y0": 1.4000000000000001,
          "y1": 1.475
         },
         {
          "fillcolor": "#e34a33",
          "line": {
           "color": "#e34a33"
          },
          "type": "rect",
          "x0": 0,
          "x1": 38,
          "y0": 0.3,
          "y1": 0.375
         },
         {
          "fillcolor": "#A8A29E",
          "line": {
           "color": "#A8A29E"
          },
          "type": "rect",
          "x0": 5,
          "x1": 6,
          "y0": 0.3,
          "y1": 0.375
         },
         {
          "fillcolor": "#e34a33",
          "line": {
           "color": "#e34a33"
          },
          "type": "rect",
          "x0": 33,
          "x1": 71,
          "y0": 0.4,
          "y1": 0.47500000000000003
         },
         {
          "fillcolor": "#e34a33",
          "line": {
           "color": "#e34a33"
          },
          "type": "rect",
          "x0": 235,
          "x1": 272,
          "y0": 0.7,
          "y1": 0.7749999999999999
         },
         {
          "fillcolor": "#b30000",
          "line": {
           "color": "#b30000"
          },
          "type": "rect",
          "x0": 235,
          "x1": 236,
          "y0": 0.7,
          "y1": 0.7749999999999999
         },
         {
          "fillcolor": "#b30000",
          "line": {
           "color": "#b30000"
          },
          "type": "rect",
          "x0": 236,
          "x1": 237,
          "y0": 0.7,
          "y1": 0.7749999999999999
         },
         {
          "fillcolor": "#b30000",
          "line": {
           "color": "#b30000"
          },
          "type": "rect",
          "x0": 271,
          "x1": 272,
          "y0": 0.7,
          "y1": 0.7749999999999999
         },
         {
          "fillcolor": "#e34a33",
          "line": {
           "color": "#e34a33"
          },
          "type": "rect",
          "x0": 50,
          "x1": 86,
          "y0": 0.3,
          "y1": 0.375
         },
         {
          "fillcolor": "#e34a33",
          "line": {
           "color": "#e34a33"
          },
          "type": "rect",
          "x0": 50,
          "x1": 85,
          "y0": 0.5,
          "y1": 0.575
         },
         {
          "fillcolor": "#b30000",
          "line": {
           "color": "#b30000"
          },
          "type": "rect",
          "x0": 83,
          "x1": 84,
          "y0": 0.5,
          "y1": 0.575
         },
         {
          "fillcolor": "#b30000",
          "line": {
           "color": "#b30000"
          },
          "type": "rect",
          "x0": 84,
          "x1": 85,
          "y0": 0.5,
          "y1": 0.575
         },
         {
          "fillcolor": "#e34a33",
          "line": {
           "color": "#e34a33"
          },
          "type": "rect",
          "x0": 154,
          "x1": 188,
          "y0": 1.5000000000000002,
          "y1": 1.5750000000000002
         },
         {
          "fillcolor": "#b30000",
          "line": {
           "color": "#b30000"
          },
          "type": "rect",
          "x0": 154,
          "x1": 155,
          "y0": 1.5000000000000002,
          "y1": 1.5750000000000002
         },
         {
          "fillcolor": "#A8A29E",
          "line": {
           "color": "#A8A29E"
          },
          "type": "rect",
          "x0": 185,
          "x1": 186,
          "y0": 1.5000000000000002,
          "y1": 1.5750000000000002
         },
         {
          "fillcolor": "#e34a33",
          "line": {
           "color": "#e34a33"
          },
          "type": "rect",
          "x0": 20,
          "x1": 54,
          "y0": 0.6000000000000001,
          "y1": 0.675
         },
         {
          "fillcolor": "#e34a33",
          "line": {
           "color": "#e34a33"
          },
          "type": "rect",
          "x0": 53,
          "x1": 86,
          "y0": 0.7,
          "y1": 0.7749999999999999
         },
         {
          "fillcolor": "#000000",
          "line": {
           "color": "#000000"
          },
          "type": "rect",
          "x0": 54,
          "x1": 55,
          "y0": 0.7,
          "y1": 0.7749999999999999
         },
         {
          "fillcolor": "#e34a33",
          "line": {
           "color": "#e34a33"
          },
          "type": "rect",
          "x0": 426,
          "x1": 458,
          "y0": 0.3,
          "y1": 0.375
         },
         {
          "fillcolor": "#e34a33",
          "line": {
           "color": "#e34a33"
          },
          "type": "rect",
          "x0": 53,
          "x1": 85,
          "y0": 0.8,
          "y1": 0.875
         },
         {
          "fillcolor": "#000000",
          "line": {
           "color": "#000000"
          },
          "type": "rect",
          "x0": 54,
          "x1": 55,
          "y0": 0.8,
          "y1": 0.875
         },
         {
          "fillcolor": "#b30000",
          "line": {
           "color": "#b30000"
          },
          "type": "rect",
          "x0": 83,
          "x1": 84,
          "y0": 0.8,
          "y1": 0.875
         },
         {
          "fillcolor": "#b30000",
          "line": {
           "color": "#b30000"
          },
          "type": "rect",
          "x0": 84,
          "x1": 85,
          "y0": 0.8,
          "y1": 0.875
         },
         {
          "fillcolor": "#e34a33",
          "line": {
           "color": "#e34a33"
          },
          "type": "rect",
          "x0": 178,
          "x1": 209,
          "y0": 1.6,
          "y1": 1.675
         },
         {
          "fillcolor": "#b30000",
          "line": {
           "color": "#b30000"
          },
          "type": "rect",
          "x0": 178,
          "x1": 179,
          "y0": 1.6,
          "y1": 1.675
         },
         {
          "fillcolor": "#b30000",
          "line": {
           "color": "#b30000"
          },
          "type": "rect",
          "x0": 179,
          "x1": 180,
          "y0": 1.6,
          "y1": 1.675
         },
         {
          "fillcolor": "#A8A29E",
          "line": {
           "color": "#A8A29E"
          },
          "type": "rect",
          "x0": 206,
          "x1": 207,
          "y0": 1.6,
          "y1": 1.675
         },
         {
          "fillcolor": "#e34a33",
          "line": {
           "color": "#e34a33"
          },
          "type": "rect",
          "x0": 271,
          "x1": 299,
          "y0": 0.8,
          "y1": 0.875
         },
         {
          "fillcolor": "#b30000",
          "line": {
           "color": "#b30000"
          },
          "type": "rect",
          "x0": 271,
          "x1": 272,
          "y0": 0.8,
          "y1": 0.875
         },
         {
          "fillcolor": "#b30000",
          "line": {
           "color": "#b30000"
          },
          "type": "rect",
          "x0": 272,
          "x1": 273,
          "y0": 0.8,
          "y1": 0.875
         },
         {
          "fillcolor": "#e34a33",
          "line": {
           "color": "#e34a33"
          },
          "type": "rect",
          "x0": 401,
          "x1": 428,
          "y0": 0.7,
          "y1": 0.7749999999999999
         },
         {
          "fillcolor": "#e34a33",
          "line": {
           "color": "#e34a33"
          },
          "type": "rect",
          "x0": 376,
          "x1": 403,
          "y0": 1.6,
          "y1": 1.675
         },
         {
          "fillcolor": "#b30000",
          "line": {
           "color": "#b30000"
          },
          "type": "rect",
          "x0": 376,
          "x1": 377,
          "y0": 1.6,
          "y1": 1.675
         },
         {
          "fillcolor": "#e34a33",
          "line": {
           "color": "#e34a33"
          },
          "type": "rect",
          "x0": 154,
          "x1": 180,
          "y0": 1.7000000000000002,
          "y1": 1.7750000000000001
         },
         {
          "fillcolor": "#b30000",
          "line": {
           "color": "#b30000"
          },
          "type": "rect",
          "x0": 154,
          "x1": 155,
          "y0": 1.7000000000000002,
          "y1": 1.7750000000000001
         },
         {
          "fillcolor": "#b30000",
          "line": {
           "color": "#b30000"
          },
          "type": "rect",
          "x0": 179,
          "x1": 180,
          "y0": 1.7000000000000002,
          "y1": 1.7750000000000001
         },
         {
          "fillcolor": "#e34a33",
          "line": {
           "color": "#e34a33"
          },
          "type": "rect",
          "x0": 154,
          "x1": 180,
          "y0": 1.8,
          "y1": 1.875
         },
         {
          "fillcolor": "#b30000",
          "line": {
           "color": "#b30000"
          },
          "type": "rect",
          "x0": 154,
          "x1": 155,
          "y0": 1.8,
          "y1": 1.875
         },
         {
          "fillcolor": "#b30000",
          "line": {
           "color": "#b30000"
          },
          "type": "rect",
          "x0": 179,
          "x1": 180,
          "y0": 1.8,
          "y1": 1.875
         },
         {
          "fillcolor": "#e34a33",
          "line": {
           "color": "#e34a33"
          },
          "type": "rect",
          "x0": 85,
          "x1": 110,
          "y0": 0.4,
          "y1": 0.47500000000000003
         },
         {
          "fillcolor": "#e34a33",
          "line": {
           "color": "#e34a33"
          },
          "type": "rect",
          "x0": 308,
          "x1": 331,
          "y0": 0.8,
          "y1": 0.875
         },
         {
          "fillcolor": "#b30000",
          "line": {
           "color": "#b30000"
          },
          "type": "rect",
          "x0": 329,
          "x1": 330,
          "y0": 0.8,
          "y1": 0.875
         },
         {
          "fillcolor": "#e34a33",
          "line": {
           "color": "#e34a33"
          },
          "type": "rect",
          "x0": 286,
          "x1": 299,
          "y0": 0.7,
          "y1": 0.7749999999999999
         },
         {
          "fillcolor": "#000000",
          "line": {
           "color": "#000000"
          },
          "type": "rect",
          "x0": 286,
          "x1": 287,
          "y0": 0.7,
          "y1": 0.7749999999999999
         },
         {
          "fillcolor": "#e34a33",
          "line": {
           "color": "#e34a33"
          },
          "type": "rect",
          "x0": 85,
          "x1": 98,
          "y0": 0.6000000000000001,
          "y1": 0.675
         },
         {
          "fillcolor": "#b30000",
          "line": {
           "color": "#b30000"
          },
          "type": "rect",
          "x0": 95,
          "x1": 96,
          "y0": 0.6000000000000001,
          "y1": 0.675
         }
        ],
        "showlegend": true,
        "template": {
         "data": {
          "bar": [
           {
            "error_x": {
             "color": "#2a3f5f"
            },
            "error_y": {
             "color": "#2a3f5f"
            },
            "marker": {
             "line": {
              "color": "#E5ECF6",
              "width": 0.5
             },
             "pattern": {
              "fillmode": "overlay",
              "size": 10,
              "solidity": 0.2
             }
            },
            "type": "bar"
           }
          ],
          "barpolar": [
           {
            "marker": {
             "line": {
              "color": "#E5ECF6",
              "width": 0.5
             },
             "pattern": {
              "fillmode": "overlay",
              "size": 10,
              "solidity": 0.2
             }
            },
            "type": "barpolar"
           }
          ],
          "carpet": [
           {
            "aaxis": {
             "endlinecolor": "#2a3f5f",
             "gridcolor": "white",
             "linecolor": "white",
             "minorgridcolor": "white",
             "startlinecolor": "#2a3f5f"
            },
            "baxis": {
             "endlinecolor": "#2a3f5f",
             "gridcolor": "white",
             "linecolor": "white",
             "minorgridcolor": "white",
             "startlinecolor": "#2a3f5f"
            },
            "type": "carpet"
           }
          ],
          "choropleth": [
           {
            "colorbar": {
             "outlinewidth": 0,
             "ticks": ""
            },
            "type": "choropleth"
           }
          ],
          "contour": [
           {
            "colorbar": {
             "outlinewidth": 0,
             "ticks": ""
            },
            "colorscale": [
             [
              0,
              "#0d0887"
             ],
             [
              0.1111111111111111,
              "#46039f"
             ],
             [
              0.2222222222222222,
              "#7201a8"
             ],
             [
              0.3333333333333333,
              "#9c179e"
             ],
             [
              0.4444444444444444,
              "#bd3786"
             ],
             [
              0.5555555555555556,
              "#d8576b"
             ],
             [
              0.6666666666666666,
              "#ed7953"
             ],
             [
              0.7777777777777778,
              "#fb9f3a"
             ],
             [
              0.8888888888888888,
              "#fdca26"
             ],
             [
              1,
              "#f0f921"
             ]
            ],
            "type": "contour"
           }
          ],
          "contourcarpet": [
           {
            "colorbar": {
             "outlinewidth": 0,
             "ticks": ""
            },
            "type": "contourcarpet"
           }
          ],
          "heatmap": [
           {
            "colorbar": {
             "outlinewidth": 0,
             "ticks": ""
            },
            "colorscale": [
             [
              0,
              "#0d0887"
             ],
             [
              0.1111111111111111,
              "#46039f"
             ],
             [
              0.2222222222222222,
              "#7201a8"
             ],
             [
              0.3333333333333333,
              "#9c179e"
             ],
             [
              0.4444444444444444,
              "#bd3786"
             ],
             [
              0.5555555555555556,
              "#d8576b"
             ],
             [
              0.6666666666666666,
              "#ed7953"
             ],
             [
              0.7777777777777778,
              "#fb9f3a"
             ],
             [
              0.8888888888888888,
              "#fdca26"
             ],
             [
              1,
              "#f0f921"
             ]
            ],
            "type": "heatmap"
           }
          ],
          "histogram": [
           {
            "marker": {
             "pattern": {
              "fillmode": "overlay",
              "size": 10,
              "solidity": 0.2
             }
            },
            "type": "histogram"
           }
          ],
          "histogram2d": [
           {
            "colorbar": {
             "outlinewidth": 0,
             "ticks": ""
            },
            "colorscale": [
             [
              0,
              "#0d0887"
             ],
             [
              0.1111111111111111,
              "#46039f"
             ],
             [
              0.2222222222222222,
              "#7201a8"
             ],
             [
              0.3333333333333333,
              "#9c179e"
             ],
             [
              0.4444444444444444,
              "#bd3786"
             ],
             [
              0.5555555555555556,
              "#d8576b"
             ],
             [
              0.6666666666666666,
              "#ed7953"
             ],
             [
              0.7777777777777778,
              "#fb9f3a"
             ],
             [
              0.8888888888888888,
              "#fdca26"
             ],
             [
              1,
              "#f0f921"
             ]
            ],
            "type": "histogram2d"
           }
          ],
          "histogram2dcontour": [
           {
            "colorbar": {
             "outlinewidth": 0,
             "ticks": ""
            },
            "colorscale": [
             [
              0,
              "#0d0887"
             ],
             [
              0.1111111111111111,
              "#46039f"
             ],
             [
              0.2222222222222222,
              "#7201a8"
             ],
             [
              0.3333333333333333,
              "#9c179e"
             ],
             [
              0.4444444444444444,
              "#bd3786"
             ],
             [
              0.5555555555555556,
              "#d8576b"
             ],
             [
              0.6666666666666666,
              "#ed7953"
             ],
             [
              0.7777777777777778,
              "#fb9f3a"
             ],
             [
              0.8888888888888888,
              "#fdca26"
             ],
             [
              1,
              "#f0f921"
             ]
            ],
            "type": "histogram2dcontour"
           }
          ],
          "mesh3d": [
           {
            "colorbar": {
             "outlinewidth": 0,
             "ticks": ""
            },
            "type": "mesh3d"
           }
          ],
          "parcoords": [
           {
            "line": {
             "colorbar": {
              "outlinewidth": 0,
              "ticks": ""
             }
            },
            "type": "parcoords"
           }
          ],
          "pie": [
           {
            "automargin": true,
            "type": "pie"
           }
          ],
          "scatter": [
           {
            "fillpattern": {
             "fillmode": "overlay",
             "size": 10,
             "solidity": 0.2
            },
            "type": "scatter"
           }
          ],
          "scatter3d": [
           {
            "line": {
             "colorbar": {
              "outlinewidth": 0,
              "ticks": ""
             }
            },
            "marker": {
             "colorbar": {
              "outlinewidth": 0,
              "ticks": ""
             }
            },
            "type": "scatter3d"
           }
          ],
          "scattercarpet": [
           {
            "marker": {
             "colorbar": {
              "outlinewidth": 0,
              "ticks": ""
             }
            },
            "type": "scattercarpet"
           }
          ],
          "scattergeo": [
           {
            "marker": {
             "colorbar": {
              "outlinewidth": 0,
              "ticks": ""
             }
            },
            "type": "scattergeo"
           }
          ],
          "scattergl": [
           {
            "marker": {
             "colorbar": {
              "outlinewidth": 0,
              "ticks": ""
             }
            },
            "type": "scattergl"
           }
          ],
          "scattermap": [
           {
            "marker": {
             "colorbar": {
              "outlinewidth": 0,
              "ticks": ""
             }
            },
            "type": "scattermap"
           }
          ],
          "scattermapbox": [
           {
            "marker": {
             "colorbar": {
              "outlinewidth": 0,
              "ticks": ""
             }
            },
            "type": "scattermapbox"
           }
          ],
          "scatterpolar": [
           {
            "marker": {
             "colorbar": {
              "outlinewidth": 0,
              "ticks": ""
             }
            },
            "type": "scatterpolar"
           }
          ],
          "scatterpolargl": [
           {
            "marker": {
             "colorbar": {
              "outlinewidth": 0,
              "ticks": ""
             }
            },
            "type": "scatterpolargl"
           }
          ],
          "scatterternary": [
           {
            "marker": {
             "colorbar": {
              "outlinewidth": 0,
              "ticks": ""
             }
            },
            "type": "scatterternary"
           }
          ],
          "surface": [
           {
            "colorbar": {
             "outlinewidth": 0,
             "ticks": ""
            },
            "colorscale": [
             [
              0,
              "#0d0887"
             ],
             [
              0.1111111111111111,
              "#46039f"
             ],
             [
              0.2222222222222222,
              "#7201a8"
             ],
             [
              0.3333333333333333,
              "#9c179e"
             ],
             [
              0.4444444444444444,
              "#bd3786"
             ],
             [
              0.5555555555555556,
              "#d8576b"
             ],
             [
              0.6666666666666666,
              "#ed7953"
             ],
             [
              0.7777777777777778,
              "#fb9f3a"
             ],
             [
              0.8888888888888888,
              "#fdca26"
             ],
             [
              1,
              "#f0f921"
             ]
            ],
            "type": "surface"
           }
          ],
          "table": [
           {
            "cells": {
             "fill": {
              "color": "#EBF0F8"
             },
             "line": {
              "color": "white"
             }
            },
            "header": {
             "fill": {
              "color": "#C8D4E3"
             },
             "line": {
              "color": "white"
             }
            },
            "type": "table"
           }
          ]
         },
         "layout": {
          "annotationdefaults": {
           "arrowcolor": "#2a3f5f",
           "arrowhead": 0,
           "arrowwidth": 1
          },
          "autotypenumbers": "strict",
          "coloraxis": {
           "colorbar": {
            "outlinewidth": 0,
            "ticks": ""
           }
          },
          "colorscale": {
           "diverging": [
            [
             0,
             "#8e0152"
            ],
            [
             0.1,
             "#c51b7d"
            ],
            [
             0.2,
             "#de77ae"
            ],
            [
             0.3,
             "#f1b6da"
            ],
            [
             0.4,
             "#fde0ef"
            ],
            [
             0.5,
             "#f7f7f7"
            ],
            [
             0.6,
             "#e6f5d0"
            ],
            [
             0.7,
             "#b8e186"
            ],
            [
             0.8,
             "#7fbc41"
            ],
            [
             0.9,
             "#4d9221"
            ],
            [
             1,
             "#276419"
            ]
           ],
           "sequential": [
            [
             0,
             "#0d0887"
            ],
            [
             0.1111111111111111,
             "#46039f"
            ],
            [
             0.2222222222222222,
             "#7201a8"
            ],
            [
             0.3333333333333333,
             "#9c179e"
            ],
            [
             0.4444444444444444,
             "#bd3786"
            ],
            [
             0.5555555555555556,
             "#d8576b"
            ],
            [
             0.6666666666666666,
             "#ed7953"
            ],
            [
             0.7777777777777778,
             "#fb9f3a"
            ],
            [
             0.8888888888888888,
             "#fdca26"
            ],
            [
             1,
             "#f0f921"
            ]
           ],
           "sequentialminus": [
            [
             0,
             "#0d0887"
            ],
            [
             0.1111111111111111,
             "#46039f"
            ],
            [
             0.2222222222222222,
             "#7201a8"
            ],
            [
             0.3333333333333333,
             "#9c179e"
            ],
            [
             0.4444444444444444,
             "#bd3786"
            ],
            [
             0.5555555555555556,
             "#d8576b"
            ],
            [
             0.6666666666666666,
             "#ed7953"
            ],
            [
             0.7777777777777778,
             "#fb9f3a"
            ],
            [
             0.8888888888888888,
             "#fdca26"
            ],
            [
             1,
             "#f0f921"
            ]
           ]
          },
          "colorway": [
           "#636efa",
           "#EF553B",
           "#00cc96",
           "#ab63fa",
           "#FFA15A",
           "#19d3f3",
           "#FF6692",
           "#B6E880",
           "#FF97FF",
           "#FECB52"
          ],
          "font": {
           "color": "#2a3f5f"
          },
          "geo": {
           "bgcolor": "white",
           "lakecolor": "white",
           "landcolor": "#E5ECF6",
           "showlakes": true,
           "showland": true,
           "subunitcolor": "white"
          },
          "hoverlabel": {
           "align": "left"
          },
          "hovermode": "closest",
          "mapbox": {
           "style": "light"
          },
          "paper_bgcolor": "white",
          "plot_bgcolor": "#E5ECF6",
          "polar": {
           "angularaxis": {
            "gridcolor": "white",
            "linecolor": "white",
            "ticks": ""
           },
           "bgcolor": "#E5ECF6",
           "radialaxis": {
            "gridcolor": "white",
            "linecolor": "white",
            "ticks": ""
           }
          },
          "scene": {
           "xaxis": {
            "backgroundcolor": "#E5ECF6",
            "gridcolor": "white",
            "gridwidth": 2,
            "linecolor": "white",
            "showbackground": true,
            "ticks": "",
            "zerolinecolor": "white"
           },
           "yaxis": {
            "backgroundcolor": "#E5ECF6",
            "gridcolor": "white",
            "gridwidth": 2,
            "linecolor": "white",
            "showbackground": true,
            "ticks": "",
            "zerolinecolor": "white"
           },
           "zaxis": {
            "backgroundcolor": "#E5ECF6",
            "gridcolor": "white",
            "gridwidth": 2,
            "linecolor": "white",
            "showbackground": true,
            "ticks": "",
            "zerolinecolor": "white"
           }
          },
          "shapedefaults": {
           "line": {
            "color": "#2a3f5f"
           }
          },
          "ternary": {
           "aaxis": {
            "gridcolor": "white",
            "linecolor": "white",
            "ticks": ""
           },
           "baxis": {
            "gridcolor": "white",
            "linecolor": "white",
            "ticks": ""
           },
           "bgcolor": "#E5ECF6",
           "caxis": {
            "gridcolor": "white",
            "linecolor": "white",
            "ticks": ""
           }
          },
          "title": {
           "x": 0.05
          },
          "xaxis": {
           "automargin": true,
           "gridcolor": "white",
           "linecolor": "white",
           "ticks": "",
           "title": {
            "standoff": 15
           },
           "zerolinecolor": "white",
           "zerolinewidth": 2
          },
          "yaxis": {
           "automargin": true,
           "gridcolor": "white",
           "linecolor": "white",
           "ticks": "",
           "title": {
            "standoff": 15
           },
           "zerolinecolor": "white",
           "zerolinewidth": 2
          }
         }
        },
        "title": {
         "text": "Scaffold mapping to reference sequence, ma1 heavy"
        },
        "width": 1200,
        "xaxis": {
         "range": [
          0,
          458
         ],
         "showgrid": false,
         "title": {
          "text": "Sequence range"
         }
        },
        "yaxis": {
         "range": [
          0,
          2
         ],
         "showgrid": false,
         "showticklabels": false,
         "zeroline": false
        }
       }
      }
     },
     "metadata": {},
     "output_type": "display_data"
    }
   ],
   "source": [
    "map.mapping_substitutions(mapped_sequences = mapped_scaffolds, prot_seq = protein_norm,\n",
    "                          title=f\"Scaffold mapping to reference sequence, {run} {chain}\", contig_colors= get_colors_from_run(\"bsa\", is_scaffold=True),\n",
    "                          match_color= get_colors_from_run(\"bsa\", is_scaffold=True), output_file=f\"fig_X_{run}{chain}_substitution_map_scaffolds_dbg.svg\",\n",
    "                          output_folder=\".\"\n",
    "                          )\n"
   ]
  },
  {
   "cell_type": "markdown",
   "id": "d2424e5e",
   "metadata": {},
   "source": [
    "### Clustering"
   ]
  },
  {
   "cell_type": "code",
   "execution_count": 44,
   "id": "060a9c63",
   "metadata": {},
   "outputs": [
    {
     "name": "stdout",
     "output_type": "stream",
     "text": [
      "scaffolds_folder_out: ../outputs/ma1heavy/comb_dbg_c0.9_ks7_ts10_mo3_mi0.9_mm10/scaffolds\n"
     ]
    }
   ],
   "source": [
    "scaffolds_folder_out = f\"../outputs/{run}{chain}/{comb}/scaffolds\"\n",
    "print(f\"scaffolds_folder_out: {scaffolds_folder_out}\")"
   ]
  },
  {
   "cell_type": "code",
   "execution_count": 45,
   "id": "00cc83e6",
   "metadata": {},
   "outputs": [
    {
     "name": "stdout",
     "output_type": "stream",
     "text": [
      "the current fasta path is: ../outputs/ma1heavy/comb_dbg_c0.9_ks7_ts10_mo3_mi0.9_mm10/scaffolds/dbg_scaffold_0.9_7_ma1.fasta\n",
      "Clustering dbg_scaffold_0.9_7_ma1.fasta...\n",
      "Clustering completed for dbg_scaffold_0.9_7_ma1.fasta, results stored with prefix ../outputs/ma1heavy/comb_dbg_c0.9_ks7_ts10_mo3_mi0.9_mm10/scaffolds/cluster/dbg_scaffold_0.9_7_ma1\n",
      "All clustering tasks completed.\n"
     ]
    }
   ],
   "source": [
    "clus.cluster_fasta_files(input_folder = scaffolds_folder_out)"
   ]
  },
  {
   "cell_type": "code",
   "execution_count": 46,
   "id": "40ee2548",
   "metadata": {},
   "outputs": [
    {
     "name": "stdout",
     "output_type": "stream",
     "text": [
      "../outputs/ma1heavy/comb_dbg_c0.9_ks7_ts10_mo3_mi0.9_mm10/scaffolds/cluster\n"
     ]
    }
   ],
   "source": [
    "cluster_folder_out = os.path.join(scaffolds_folder_out, \"cluster\")\n",
    "print(cluster_folder_out)"
   ]
  },
  {
   "cell_type": "code",
   "execution_count": 47,
   "id": "18ae29d3",
   "metadata": {},
   "outputs": [
    {
     "name": "stderr",
     "output_type": "stream",
     "text": [
      "Processing clusters for dbg_scaffold_0.9_7_ma1: 100%|██████████| 106/106 [00:00<00:00, 169.28it/s]\n"
     ]
    }
   ],
   "source": [
    "cluster_tsv_folder = os.path.join(scaffolds_folder_out, \"cluster\")\n",
    "output_base_folder = os.path.join(scaffolds_folder_out, \"cluster_fasta\")\n",
    "\n",
    "for fasta_file in os.listdir(scaffolds_folder_out):\n",
    "    if fasta_file.endswith('.fasta'):\n",
    "        fasta_path = os.path.join(scaffolds_folder_out, fasta_file)\n",
    "        clus.process_fasta_and_clusters(fasta_path, cluster_tsv_folder, output_base_folder)"
   ]
  },
  {
   "cell_type": "markdown",
   "id": "27d21fff",
   "metadata": {},
   "source": [
    "### Alignment"
   ]
  },
  {
   "cell_type": "code",
   "execution_count": 48,
   "id": "c4d00320",
   "metadata": {},
   "outputs": [],
   "source": [
    "cluster_fasta_folder = os.path.join(scaffolds_folder_out, \"cluster_fasta\") \n",
    "align_folder = os.path.join(scaffolds_folder_out, \"align\")\n",
    "prep.create_directory(align_folder)"
   ]
  },
  {
   "cell_type": "code",
   "execution_count": 49,
   "id": "6385a52b",
   "metadata": {},
   "outputs": [
    {
     "name": "stdout",
     "output_type": "stream",
     "text": [
      "All alignment tasks completed.\n"
     ]
    }
   ],
   "source": [
    "for cluster_folder in os.listdir(cluster_fasta_folder): \n",
    "    cluster_folder_path = os.path.join(cluster_fasta_folder, cluster_folder) \n",
    "    if os.path.isdir(cluster_folder_path): \n",
    "        \n",
    "        output_cluster_folder = os.path.join(align_folder, cluster_folder) \n",
    "        os.makedirs(output_cluster_folder, exist_ok=True) \n",
    "            \n",
    "        for fasta_file in os.listdir(cluster_folder_path): \n",
    "            if fasta_file.endswith('.fasta'): \n",
    "                fasta_file_path = os.path.join(cluster_folder_path, fasta_file)\n",
    "                base_filename = os.path.splitext(fasta_file)[0] \n",
    "                output_file = os.path.join(output_cluster_folder, f\"{base_filename}_out.afa\")\n",
    "                    \n",
    "                align.align_or_copy_fasta(fasta_file_path, output_file)\n",
    "\n",
    "print(\"All alignment tasks completed.\")"
   ]
  },
  {
   "cell_type": "markdown",
   "id": "1c3b672a",
   "metadata": {},
   "source": [
    "### Consensus"
   ]
  },
  {
   "cell_type": "code",
   "execution_count": 50,
   "id": "4cc73154",
   "metadata": {},
   "outputs": [],
   "source": [
    "consensus_folder = os.path.join(scaffolds_folder_out, \"consensus\")"
   ]
  },
  {
   "cell_type": "code",
   "execution_count": 51,
   "id": "34b179a0",
   "metadata": {},
   "outputs": [
    {
     "name": "stdout",
     "output_type": "stream",
     "text": [
      "Processing ../outputs/ma1heavy/comb_dbg_c0.9_ks7_ts10_mo3_mi0.9_mm10/scaffolds/align/dbg_scaffold_0.9_7_ma1_cluster_fasta\n"
     ]
    },
    {
     "name": "stderr",
     "output_type": "stream",
     "text": [
      "100%|██████████| 106/106 [08:18<00:00,  4.70s/it]\n"
     ]
    }
   ],
   "source": [
    "cons.process_alignment_files(align_folder, consensus_folder)"
   ]
  },
  {
   "cell_type": "code",
   "execution_count": 52,
   "id": "b0483e63",
   "metadata": {},
   "outputs": [],
   "source": [
    "all_sequences = cons.load_all_consensus_sequences(consensus_folder)"
   ]
  },
  {
   "cell_type": "code",
   "execution_count": null,
   "id": "7dc8d511",
   "metadata": {},
   "outputs": [],
   "source": []
  }
 ],
 "metadata": {
  "kernelspec": {
   "display_name": "instanexus",
   "language": "python",
   "name": "python3"
  },
  "language_info": {
   "codemirror_mode": {
    "name": "ipython",
    "version": 3
   },
   "file_extension": ".py",
   "mimetype": "text/x-python",
   "name": "python",
   "nbconvert_exporter": "python",
   "pygments_lexer": "ipython3",
   "version": "3.9.21"
  }
 },
 "nbformat": 4,
 "nbformat_minor": 5
}
