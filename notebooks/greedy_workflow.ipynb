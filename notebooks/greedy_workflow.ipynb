{
 "cells": [
  {
   "cell_type": "markdown",
   "id": "5ad82e2e",
   "metadata": {},
   "source": [
    "## Greedy assembly workflow"
   ]
  },
  {
   "cell_type": "raw",
   "id": "62029ce8",
   "metadata": {
    "vscode": {
     "languageId": "raw"
    }
   },
   "source": [
    "r\"\"\" Full assembly workflow with a greedy approach.\n",
    " _____  _______  _    _ \n",
    "|  __ \\|__   __|| |  | |\n",
    "| |  | |  | |   | |  | |\n",
    "| |  | |  | |   | |  | |\n",
    "| |__| |  | |   | |__| |\n",
    "|_____/   |_|   |______|\n",
    "\n",
    "__authors__ = Marco Reverenna & Konstantinos Kalogeropoulus\n",
    "__copyright__ = Copyright 2024-2025\n",
    "__research-group__ = DTU Biosustain (Multi-omics Network Analytics) and DTU Bioengineering\n",
    "__date__ = 15 Jul 2025\n",
    "__maintainer__ = Marco Reverenna\n",
    "__email__ = marcor@dtu.dk\n",
    "__status__ = Dev\n",
    "\"\"\""
   ]
  },
  {
   "cell_type": "code",
   "execution_count": null,
   "id": "9d49b59a",
   "metadata": {},
   "outputs": [],
   "source": [
    "import os\n",
    "import sys\n",
    "\n",
    "script_dir = os.getcwd() \n",
    "sys.path.append(os.path.join(script_dir, '../src'))"
   ]
  },
  {
   "cell_type": "code",
   "execution_count": null,
   "id": "0cfd46c7",
   "metadata": {},
   "outputs": [],
   "source": [
    "# my modules\n",
    "import greedy_method as greedy\n",
    "import mapping as map\n",
    "import consensus as cons\n",
    "import alignment as align\n",
    "import clustering as clus\n",
    "import preprocessing as prep\n",
    "import compute_statistics as comp_stat\n",
    "\n",
    "# import libraries\n",
    "from tqdm import tqdm\n",
    "from Bio import SeqIO\n",
    "from tempfile import mkdtemp\n",
    "from itertools import combinations\n",
    "from collections import defaultdict, Counter\n",
    "from matplotlib.patches import Rectangle\n",
    "\n",
    "\n",
    "import json\n",
    "import re\n",
    "import Bio\n",
    "import shutil\n",
    "import logging\n",
    "import importlib\n",
    "import statistics\n",
    "import subprocess\n",
    "import numpy as np\n",
    "import pandas as pd\n",
    "import seaborn as sns\n",
    "import networkx as nx\n",
    "import plotly.express as px\n",
    "import matplotlib.pyplot as plt\n",
    "import plotly.graph_objects as go\n"
   ]
  },
  {
   "cell_type": "code",
   "execution_count": null,
   "id": "a35e5eef",
   "metadata": {},
   "outputs": [],
   "source": [
    "def get_sample_metadata(run, chain=\"\", json_path=\"../json/sample_metadata.json\"):\n",
    "    with open(json_path, \"r\") as f:\n",
    "        all_meta = json.load(f)\n",
    "\n",
    "    if run not in all_meta:\n",
    "        raise ValueError(f\"Run '{run}' not found in metadata.\")\n",
    "\n",
    "    entries = all_meta[run]\n",
    "\n",
    "    for entry in entries:\n",
    "        if entry[\"chain\"] == chain:\n",
    "            return entry\n",
    "\n",
    "    raise ValueError(f\"No metadata found for run '{run}' with chain '{chain}'.\")"
   ]
  },
  {
   "cell_type": "code",
   "execution_count": null,
   "id": "b2fadf34",
   "metadata": {},
   "outputs": [],
   "source": [
    "def get_colors_from_run(cat, is_scaffold=False, json_path=\"../json/colors.json\"):\n",
    "    if not os.path.exists(json_path):\n",
    "        raise FileNotFoundError(f\"Missing color file: {json_path}\")\n",
    "\n",
    "    with open(json_path, \"r\") as f:\n",
    "        colors = json.load(f)\n",
    "\n",
    "    category = cat.split(\"_\")[0].lower()\n",
    "    key = \"scaffold\" if is_scaffold else \"contig\"\n",
    "\n",
    "    try:\n",
    "        return colors[category][key]\n",
    "    except KeyError:\n",
    "        raise ValueError(f\"Color not defined for category '{category}' and key '{key}'\")\n"
   ]
  },
  {
   "cell_type": "code",
   "execution_count": null,
   "id": "e742d6ee",
   "metadata": {},
   "outputs": [],
   "source": [
    "def get_combination_name(ass_method, conf, size_threshold, min_overlap, min_identity, max_mismatches):\n",
    "    return f\"comb_{ass_method}_c{conf}_ts{size_threshold}_mo{min_overlap}_mi{min_identity}_mm{max_mismatches}\""
   ]
  },
  {
   "cell_type": "code",
   "execution_count": null,
   "id": "2cb39a0b",
   "metadata": {},
   "outputs": [],
   "source": [
    "run = \"NB1\"\n",
    "\n",
    "meta = get_sample_metadata(run)\n",
    "\n",
    "protein = meta[\"protein\"]\n",
    "chain = meta[\"chain\"]\n",
    "proteases = meta[\"proteases\"]"
   ]
  },
  {
   "cell_type": "code",
   "execution_count": null,
   "id": "839f5c23",
   "metadata": {},
   "outputs": [],
   "source": [
    "# nb6 comb_greedy_c0.9_ts10_mo3_mi0.9_mm10\n",
    "# nb3 comb_greedy_c0.92_ts10_mo3_mi0.9_mm10\n",
    "# nb13 comb_greedy_c0.86_ts10_mo3_mi0.8_mm12\n",
    "# bd17 comb_greedy_c0.92_ts10_mo3_mi0.6_mm14\n",
    "\n",
    "# best contig greedy results\n",
    "# ma1 heavy comb_greedy_c0.92_ts10_mo3_mi0.9_mm12\n",
    "# ma2 heavy comb_greedy_c0.86_ts10_mo3_mi0.8_mm14\n",
    "# ma3 heavy comb_greedy_c0.9_ts10_mo3_mi0.6_mm12\n",
    "\n",
    "# ma1 light comb_greedy_c0.88_ts10_mo3_mi0.9_mm10\n",
    "# ma2 light comb_greedy_c0.9_ts10_mo3_mi0.9_mm10\n",
    "# ma3 light comb_greedy_c0.92_ts10_mo3_mi0.9_mm8"
   ]
  },
  {
   "cell_type": "code",
   "execution_count": null,
   "id": "c008b9c7",
   "metadata": {},
   "outputs": [],
   "source": [
    "ass_method = 'greedy'\n",
    "conf = 0.92\n",
    "size_threshold = 10\n",
    "min_overlap = 3\n",
    "min_identity = 0.6\n",
    "max_mismatches = 14"
   ]
  },
  {
   "cell_type": "code",
   "execution_count": null,
   "id": "f4be953b",
   "metadata": {},
   "outputs": [],
   "source": [
    "comb = get_combination_name(ass_method, conf, size_threshold, min_overlap, min_identity, max_mismatches)\n",
    "\n",
    "print(comb)"
   ]
  },
  {
   "cell_type": "code",
   "execution_count": null,
   "id": "46b49ae7",
   "metadata": {},
   "outputs": [],
   "source": [
    "params = {\n",
    "        \"ass_method\": 'greedy',\n",
    "        \"conf\": conf,\n",
    "        \"size_threshold\": size_threshold,\n",
    "        \"min_overlap\": min_overlap,\n",
    "        \"max_mismatches\": max_mismatches,\n",
    "        \"min_identity\": min_identity\n",
    "    }"
   ]
  },
  {
   "cell_type": "code",
   "execution_count": null,
   "id": "1b2458c4",
   "metadata": {},
   "outputs": [],
   "source": [
    "folder_outputs = f\"../outputs/{run}{chain}\"\n",
    "\n",
    "prep.create_directory(folder_outputs)\n",
    "\n",
    "combination_folder_out = os.path.join(folder_outputs, comb)\n",
    "\n",
    "prep.create_subdirectories_outputs(combination_folder_out)\n"
   ]
  },
  {
   "cell_type": "markdown",
   "id": "230ca650",
   "metadata": {},
   "source": [
    "### Data cleaning"
   ]
  },
  {
   "cell_type": "code",
   "execution_count": null,
   "id": "71aad16e",
   "metadata": {},
   "outputs": [],
   "source": [
    "protein_norm = prep.normalize_sequence(protein)\n",
    "\n",
    "df = pd.read_csv(f\"../input/{run}.csv\")"
   ]
  },
  {
   "cell_type": "code",
   "execution_count": null,
   "id": "70902198",
   "metadata": {},
   "outputs": [],
   "source": [
    "df['protease'] = df['experiment_name'].apply(lambda name: prep.extract_protease(name, proteases))\n",
    "\n",
    "df = prep.clean_dataframe(df)"
   ]
  },
  {
   "cell_type": "code",
   "execution_count": null,
   "id": "07e924af",
   "metadata": {},
   "outputs": [],
   "source": [
    "df['cleaned_preds'] = df['preds'].apply(prep.remove_modifications)"
   ]
  },
  {
   "cell_type": "code",
   "execution_count": null,
   "id": "f51d86b1",
   "metadata": {},
   "outputs": [],
   "source": [
    "cleaned_psms = df['cleaned_preds'].tolist()"
   ]
  },
  {
   "cell_type": "code",
   "execution_count": null,
   "id": "7320a4a2",
   "metadata": {},
   "outputs": [],
   "source": [
    "filtered_psms = prep.filter_contaminants(cleaned_psms, run, \"../fasta/contaminants.fasta\")"
   ]
  },
  {
   "cell_type": "code",
   "execution_count": null,
   "id": "f8a52b79",
   "metadata": {},
   "outputs": [],
   "source": [
    "df = df[df['cleaned_preds'].isin(filtered_psms)]"
   ]
  },
  {
   "cell_type": "code",
   "execution_count": null,
   "id": "2de6fc32",
   "metadata": {},
   "outputs": [],
   "source": [
    "df[\"mapped\"] = df[\"cleaned_preds\"].apply(lambda x: \"True\" if x in protein_norm else \"False\")"
   ]
  },
  {
   "cell_type": "code",
   "execution_count": null,
   "id": "edc50e0f",
   "metadata": {},
   "outputs": [],
   "source": [
    "df = df[df['conf'] > conf]"
   ]
  },
  {
   "cell_type": "code",
   "execution_count": null,
   "id": "0d6d2911",
   "metadata": {},
   "outputs": [],
   "source": [
    "df.reset_index(drop=True, inplace=True)"
   ]
  },
  {
   "cell_type": "code",
   "execution_count": null,
   "id": "c988e164",
   "metadata": {},
   "outputs": [],
   "source": [
    "final_psms = df['cleaned_preds'].tolist()"
   ]
  },
  {
   "cell_type": "code",
   "execution_count": null,
   "id": "9f733618",
   "metadata": {},
   "outputs": [],
   "source": [
    "mapped_psms = map.process_protein_contigs_scaffold(final_psms, protein_norm, max_mismatches, min_identity)"
   ]
  },
  {
   "cell_type": "markdown",
   "id": "07a38cda",
   "metadata": {},
   "source": [
    "### Assembly"
   ]
  },
  {
   "cell_type": "code",
   "execution_count": null,
   "id": "e7c76d89",
   "metadata": {},
   "outputs": [],
   "source": [
    "assembled_contigs = greedy.assemble_contigs(final_psms, min_overlap)"
   ]
  },
  {
   "cell_type": "code",
   "execution_count": null,
   "id": "0f4f156c",
   "metadata": {},
   "outputs": [],
   "source": [
    "assembled_contigs = list(set(assembled_contigs))"
   ]
  },
  {
   "cell_type": "code",
   "execution_count": null,
   "id": "bca588e1",
   "metadata": {},
   "outputs": [],
   "source": [
    "assembled_contigs = [contig for contig in assembled_contigs if len(contig) > size_threshold]"
   ]
  },
  {
   "cell_type": "code",
   "execution_count": null,
   "id": "59895e98",
   "metadata": {},
   "outputs": [],
   "source": [
    "assembled_contigs = sorted(assembled_contigs, key=len, reverse=True)"
   ]
  },
  {
   "cell_type": "code",
   "execution_count": null,
   "id": "5cd379cc",
   "metadata": {},
   "outputs": [],
   "source": [
    "records = [Bio.SeqRecord.SeqRecord(Bio.Seq.Seq(contig), id=f\"contig_{idx+1}\",\n",
    "                                    description=f\"length: {len(contig)}\") for idx,\n",
    "                                    contig in enumerate(assembled_contigs)\n",
    "                                    ]"
   ]
  },
  {
   "cell_type": "code",
   "execution_count": null,
   "id": "b062a73a",
   "metadata": {},
   "outputs": [],
   "source": [
    "Bio.SeqIO.write(records, f\"{combination_folder_out}/contigs/{ass_method}_contig_{conf}_{run}.fasta\", \"fasta\")"
   ]
  },
  {
   "cell_type": "code",
   "execution_count": null,
   "id": "bb456b01",
   "metadata": {},
   "outputs": [],
   "source": [
    "mapped_contigs = map.process_protein_contigs_scaffold(assembled_contigs, protein_norm, max_mismatches, min_identity)"
   ]
  },
  {
   "cell_type": "code",
   "execution_count": null,
   "id": "f0ef8efe",
   "metadata": {},
   "outputs": [],
   "source": [
    "df_contigs_mapped = map.create_dataframe_from_mapped_sequences(data = mapped_contigs)"
   ]
  },
  {
   "cell_type": "code",
   "execution_count": null,
   "id": "094aad16",
   "metadata": {},
   "outputs": [],
   "source": [
    "comp_stat.compute_assembly_statistics(df = df_contigs_mapped, sequence_type='contigs', output_folder = f\"{combination_folder_out}/statistics\", reference = protein_norm, **params)"
   ]
  },
  {
   "cell_type": "code",
   "execution_count": null,
   "id": "c47c1e1d",
   "metadata": {},
   "outputs": [],
   "source": [
    "map.mapping_substitutions(mapped_sequences = mapped_contigs,\n",
    "                          prot_seq = protein_norm,\n",
    "                          title=f\"Contig mapping to reference sequence, {run} {chain}\", contig_colors= get_colors_from_run(\"bsa\", is_scaffold=False),\n",
    "                          match_color= get_colors_from_run(\"bsa\", is_scaffold=False), output_file= f\"fig_X_{run}_substitution_map_contigs_greedy.svg\",\n",
    "                          output_folder=\".\"\n",
    "                          )"
   ]
  },
  {
   "cell_type": "code",
   "execution_count": null,
   "id": "70432a15",
   "metadata": {},
   "outputs": [],
   "source": [
    "assembled_scaffolds = greedy.scaffold_iterative_greedy(assembled_contigs, min_overlap, size_threshold)"
   ]
  },
  {
   "cell_type": "code",
   "execution_count": null,
   "id": "74a7a21b",
   "metadata": {},
   "outputs": [],
   "source": [
    "records = []\n",
    "\n",
    "for i, seq in enumerate(assembled_scaffolds):\n",
    "    record = Bio.SeqRecord.SeqRecord(Bio.Seq.Seq(seq), id=f\"scaffold_{i+1}\", description=f\"length: {len(seq)}\")\n",
    "    records.append(record)"
   ]
  },
  {
   "cell_type": "code",
   "execution_count": null,
   "id": "f83b34db",
   "metadata": {},
   "outputs": [],
   "source": [
    "Bio.SeqIO.write(records, f\"{combination_folder_out}/scaffolds/{ass_method}_scaffold_{conf}_{run}.fasta\", \"fasta\")"
   ]
  },
  {
   "cell_type": "code",
   "execution_count": null,
   "id": "184fe57f",
   "metadata": {},
   "outputs": [],
   "source": [
    "mapped_scaffolds = map.process_protein_contigs_scaffold(assembled_scaffolds, protein_norm, max_mismatches, min_identity)"
   ]
  },
  {
   "cell_type": "code",
   "execution_count": null,
   "id": "212f687e",
   "metadata": {},
   "outputs": [],
   "source": [
    "df_scaffolds_mapped = map.create_dataframe_from_mapped_sequences(data = mapped_scaffolds)"
   ]
  },
  {
   "cell_type": "code",
   "execution_count": null,
   "id": "1138b923",
   "metadata": {},
   "outputs": [],
   "source": [
    "comp_stat.compute_assembly_statistics(df = df_scaffolds_mapped, sequence_type='scaffolds', output_folder = f\"{combination_folder_out}/statistics\", reference = protein_norm, **params)"
   ]
  },
  {
   "cell_type": "code",
   "execution_count": null,
   "id": "41beca08",
   "metadata": {},
   "outputs": [],
   "source": [
    "map.mapping_substitutions(mapped_sequences = mapped_scaffolds, prot_seq = protein_norm,\n",
    "                          title=f\"Scaffold mapping to reference sequence, {run} {chain}\", contig_colors= get_colors_from_run(\"bsa\", is_scaffold=True),\n",
    "                          match_color = get_colors_from_run(\"bsa\", is_scaffold=True), output_file=f\"fig_X_{run}_substitution_map_scaffolds_greedy.svg\",\n",
    "                          output_folder=\".\"\n",
    "                          )"
   ]
  },
  {
   "cell_type": "markdown",
   "id": "5ec8f596",
   "metadata": {},
   "source": [
    "### Clustering"
   ]
  },
  {
   "cell_type": "code",
   "execution_count": null,
   "id": "78a196e4",
   "metadata": {},
   "outputs": [],
   "source": [
    "scaffolds_folder_out = f\"../outputs/{run}{chain}/{comb}/scaffolds\"\n",
    "print(f\"scaffolds_folder_out: {scaffolds_folder_out}\")"
   ]
  },
  {
   "cell_type": "code",
   "execution_count": null,
   "id": "eddc364b",
   "metadata": {},
   "outputs": [],
   "source": [
    "clus.cluster_fasta_files(input_folder = scaffolds_folder_out)"
   ]
  },
  {
   "cell_type": "code",
   "execution_count": null,
   "id": "b9b13387",
   "metadata": {},
   "outputs": [],
   "source": [
    "cluster_folder_out = os.path.join(scaffolds_folder_out, \"cluster\")\n",
    "print(cluster_folder_out)"
   ]
  },
  {
   "cell_type": "code",
   "execution_count": null,
   "id": "c6ac643b",
   "metadata": {},
   "outputs": [],
   "source": [
    "cluster_tsv_folder = os.path.join(scaffolds_folder_out, \"cluster\")\n",
    "output_base_folder = os.path.join(scaffolds_folder_out, \"cluster_fasta\")\n",
    "\n",
    "for fasta_file in os.listdir(scaffolds_folder_out):\n",
    "    if fasta_file.endswith('.fasta'):\n",
    "        fasta_path = os.path.join(scaffolds_folder_out, fasta_file)\n",
    "        clus.process_fasta_and_clusters(fasta_path, cluster_tsv_folder, output_base_folder)"
   ]
  },
  {
   "cell_type": "markdown",
   "id": "92141fa0",
   "metadata": {},
   "source": [
    "### Alignment"
   ]
  },
  {
   "cell_type": "code",
   "execution_count": null,
   "id": "1457f7e6",
   "metadata": {},
   "outputs": [],
   "source": [
    "cluster_fasta_folder = os.path.join(scaffolds_folder_out, \"cluster_fasta\") \n",
    "align_folder = os.path.join(scaffolds_folder_out, \"align\")\n",
    "prep.create_directory(align_folder)"
   ]
  },
  {
   "cell_type": "code",
   "execution_count": null,
   "id": "aa0d1dba",
   "metadata": {},
   "outputs": [],
   "source": [
    "for cluster_folder in os.listdir(cluster_fasta_folder): \n",
    "    cluster_folder_path = os.path.join(cluster_fasta_folder, cluster_folder) \n",
    "    if os.path.isdir(cluster_folder_path): \n",
    "        \n",
    "        output_cluster_folder = os.path.join(align_folder, cluster_folder) \n",
    "        os.makedirs(output_cluster_folder, exist_ok=True) \n",
    "            \n",
    "        for fasta_file in os.listdir(cluster_folder_path): \n",
    "            if fasta_file.endswith('.fasta'): \n",
    "                fasta_file_path = os.path.join(cluster_folder_path, fasta_file)\n",
    "                base_filename = os.path.splitext(fasta_file)[0] \n",
    "                output_file = os.path.join(output_cluster_folder, f\"{base_filename}_out.afa\")\n",
    "                    \n",
    "                align.align_or_copy_fasta(fasta_file_path, output_file)\n",
    "\n",
    "print(\"All alignment tasks completed.\")"
   ]
  },
  {
   "cell_type": "markdown",
   "id": "7c2e3f2b",
   "metadata": {},
   "source": [
    "### Consensus"
   ]
  },
  {
   "cell_type": "code",
   "execution_count": null,
   "id": "69cb7099",
   "metadata": {},
   "outputs": [],
   "source": [
    "consensus_folder = os.path.join(scaffolds_folder_out, \"consensus\")"
   ]
  },
  {
   "cell_type": "code",
   "execution_count": null,
   "id": "886c3983",
   "metadata": {},
   "outputs": [],
   "source": [
    "cons.process_alignment_files(align_folder, consensus_folder)"
   ]
  },
  {
   "cell_type": "code",
   "execution_count": null,
   "id": "c8a670f0",
   "metadata": {},
   "outputs": [],
   "source": [
    "all_sequences = cons.load_all_consensus_sequences(consensus_folder)"
   ]
  }
 ],
 "metadata": {
  "kernelspec": {
   "display_name": "instanexus",
   "language": "python",
   "name": "python3"
  },
  "language_info": {
   "codemirror_mode": {
    "name": "ipython",
    "version": 3
   },
   "file_extension": ".py",
   "mimetype": "text/x-python",
   "name": "python",
   "nbconvert_exporter": "python",
   "pygments_lexer": "ipython3",
   "version": "3.9.21"
  }
 },
 "nbformat": 4,
 "nbformat_minor": 5
}
