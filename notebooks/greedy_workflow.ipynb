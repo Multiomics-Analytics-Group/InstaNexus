{
 "cells": [
  {
   "cell_type": "markdown",
   "id": "5ad82e2e",
   "metadata": {},
   "source": [
    "## Greedy assembly workflow"
   ]
  },
  {
   "cell_type": "code",
   "execution_count": null,
   "id": "62029ce8",
   "metadata": {},
   "outputs": [],
   "source": [
    "r\"\"\" Full assembly workflow with a greedy approach.\n",
    " _____  _______  _    _ \n",
    "|  __ \\|__   __|| |  | |\n",
    "| |  | |  | |   | |  | |\n",
    "| |  | |  | |   | |  | |\n",
    "| |__| |  | |   | |__| |\n",
    "|_____/   |_|   |______|\n",
    "\n",
    "__authors__ = Marco Reverenna & Konstantinos Kalogeropoulus\n",
    "__copyright__ = Copyright 2024-2025\n",
    "__research-group__ = DTU Biosustain (Multi-omics Network Analytics) and DTU Bioengineering\n",
    "__date__ = 26 Jun 2025\n",
    "__maintainer__ = Marco Reverenna\n",
    "__email__ = marcor@dtu.dk\n",
    "__status__ = Dev\n",
    "\"\"\""
   ]
  },
  {
   "cell_type": "raw",
   "id": "24bfa1df",
   "metadata": {
    "vscode": {
     "languageId": "raw"
    }
   },
   "source": [
    "    if cat == 'antibodies':\n",
    "        contig_color, scaffold_color = \"#8dd3c7\", \"#1b9e77\",\n",
    "    elif cat == 'nanobodies':\n",
    "        contig_color, scaffold_color = '#a6cee3', '#1f78b4'\n",
    "    elif cat == 'binders':\n",
    "        contig_color, scaffold_color = '#cab2d6', '#6a3d9a'\n",
    "    elif cat == 'bsa':\n",
    "        contig_color, scaffold_color = '#fdbb84', '#e34a33'"
   ]
  },
  {
   "cell_type": "code",
   "execution_count": null,
   "id": "9d49b59a",
   "metadata": {},
   "outputs": [],
   "source": [
    "import os\n",
    "import sys\n",
    "\n",
    "script_dir = os.getcwd() \n",
    "sys.path.append(os.path.join(script_dir, '../src'))"
   ]
  },
  {
   "cell_type": "code",
   "execution_count": null,
   "id": "0cfd46c7",
   "metadata": {},
   "outputs": [],
   "source": [
    "# my modules\n",
    "import greedy_method as greedy\n",
    "import mapping as map\n",
    "import consensus as cons\n",
    "import alignment as align\n",
    "import clustering as clus\n",
    "import preprocessing as prep\n",
    "import compute_statistics as comp_stat\n",
    "\n",
    "# import libraries\n",
    "from tqdm import tqdm\n",
    "from Bio import SeqIO\n",
    "from tempfile import mkdtemp\n",
    "from itertools import combinations\n",
    "from collections import defaultdict, Counter\n",
    "from matplotlib.patches import Rectangle\n",
    "\n",
    "\n",
    "import json\n",
    "import re\n",
    "import Bio\n",
    "import shutil\n",
    "import logging\n",
    "import importlib\n",
    "import statistics\n",
    "import subprocess\n",
    "import numpy as np\n",
    "import pandas as pd\n",
    "import seaborn as sns\n",
    "import networkx as nx\n",
    "import plotly.express as px\n",
    "import matplotlib.pyplot as plt\n",
    "import plotly.graph_objects as go\n"
   ]
  },
  {
   "cell_type": "code",
   "execution_count": null,
   "id": "839f5c23",
   "metadata": {},
   "outputs": [],
   "source": [
    "# nb6 comb_greedy_c0.9_ts10_mo3_mi0.9_mm10\n",
    "# nb3 comb_greedy_c0.92_ts10_mo3_mi0.9_mm10\n",
    "#nb13 comb_greedy_c0.86_ts10_mo3_mi0.8_mm12\n",
    "# bd17 comb_greedy_c0.92_ts10_mo3_mi0.6_mm14\n",
    "\n",
    "# best contig greedy results\n",
    "# ma1 heavy comb_greedy_c0.92_ts10_mo3_mi0.9_mm12\n",
    "# ma2 heavy comb_greedy_c0.86_ts10_mo3_mi0.8_mm14\n",
    "# ma3 heavy comb_greedy_c0.9_ts10_mo3_mi0.6_mm12\n",
    "\n",
    "# ma1 light comb_greedy_c0.88_ts10_mo3_mi0.9_mm10\n",
    "# ma2 light comb_greedy_c0.9_ts10_mo3_mi0.9_mm10\n",
    "# ma3 light comb_greedy_c0.92_ts10_mo3_mi0.9_mm8"
   ]
  },
  {
   "cell_type": "code",
   "execution_count": null,
   "id": "c008b9c7",
   "metadata": {},
   "outputs": [],
   "source": [
    "ass_method = 'greedy'\n",
    "conf = 0.92\n",
    "size_threshold = 10\n",
    "min_overlap = 3\n",
    "min_identity = 0.6\n",
    "max_mismatches = 14"
   ]
  },
  {
   "cell_type": "code",
   "execution_count": null,
   "id": "f4be953b",
   "metadata": {},
   "outputs": [],
   "source": [
    "comb = \"comb_greedy_c0.92_ts10_mo3_mi0.6_mm14\""
   ]
  },
  {
   "cell_type": "code",
   "execution_count": null,
   "id": "46b49ae7",
   "metadata": {},
   "outputs": [],
   "source": [
    "params = {\n",
    "        \"ass_method\": 'greedy',\n",
    "        \"conf\": conf,\n",
    "        \"size_threshold\": size_threshold,\n",
    "        \"min_overlap\": min_overlap,\n",
    "        \"max_mismatches\": max_mismatches,\n",
    "        \"min_identity\": min_identity\n",
    "    }"
   ]
  },
  {
   "cell_type": "code",
   "execution_count": null,
   "id": "21bdc950",
   "metadata": {},
   "outputs": [],
   "source": [
    "# run = \"bsa\"\n",
    "# protein = 'MKWVTFISLLLLFSSAYSRGVFRRDTHKSEIAHRFKDLGEEHFKGLVLIAFSQYLQQCPFDEHVKLVNELTEFAKTCVADESHAGCEKSLHTLFGDELCKVASLRETYGDMADCCEKQEPERNECFLSHKDDSPDLPKLKPDPNTLCDEFKADEKKFWGKYLYEIARRHPYFYAPELLYYANKYNGVFQECCQAEDKGACLLPKIETMREKVLASSARQRLRCASIQKFGERALKAWSVARLSQKFPKAEFVEVTKLVTDLTKVHKECCHGDLLECADDRADLAKYICDNQDTISSKLKECCDKPLLEKSHCIAEVEKDAIPENLPPLTADFAEDKDVCKNYQEAKDAFLGSFLYEYSRRHPEYAVSVLLRLAKEYEATLEECCAKDDPHACYSTVFDKLKHLVDEPQNLIKQNCDQFEKLGEYGFQNALIVRYTRKVPQVSTPTLVEVSRSLGKVGTRCCTKPESERMPCTEDYLSLILNRLCVLHEKTPVSEKVTKCCTESLVNRRPCFSALTPDETYVPKAFDEKLFTFHADICTLPDTEKQIKKQTALVELLKHKPKATEEQLKTVMENFVAFVDKCCAADDKEACFAVEGPKLVVSTQTALA'\n",
    "# chain = ''\n",
    "# proteases = ['Chymotrypsin', 'Legumain', 'Krakatoa', 'Elastase', 'Trypsin', 'Papain', 'Thermo', 'ProtK', 'GluC', 'LysC']\n",
    "\n",
    "#run = \"ma2\"\n",
    "#protein = \"EVQLVQSGAEVKKPGSSVKVSCKASGGTFSSYALSWVRQAPGQGLEWMGGLLPLFGTANYAQKFQGRVTLTADESTSTAYMELRSLRSDDTAVYYCARDNLGYCSGGSCYSDYYYYYMDVWGQGTLVTVSSASTKGPSVFPLAPSSKSTSGGTAALGCLVKDYFPEPVTVSWNSGALTSGVHTFPAVLQSSGLYSLSSVVTVPSSSLGTQTYLCNVNHKPSNTKVDKKVEPKSCDKTHTCPPCPAPELLGGPSVFLFPPKPKDTLMLSRTPEVTCVVVDVSHEDPEVKFNWYVDGVEVHNAKTKPREEQYNSTYRVVSVLTVLHQDWLNGKEYKCKVSNKALPAPLEKTLSKAKGQPREPQVYTLPPSRDELTKNQVSLTCLVKGFYPSDLAVEWESNGQPENNYKTTPPVLDSDGSFFLYSKLTVDKSRWQQGNVFSCSVMHEALHNHYTQKSLSLSPGK\"\n",
    "#chain = \"heavy\"\n",
    "#proteases = [\"Thermo\", \"Papain\", \"Chemo\", \"Trypsin\", \"Elastase\", \"ProtK\", \"GluC\"]\n",
    "\n",
    "#run = \"NB6\"\n",
    "#protein = 'QVQLQESGGGLVQPGGSLRLSCTASLNIFSINAMGWYRQAPGKQRELVAAITSGGSTNYADSVKGRFTISRDNAKSTVYLQMNSLKPEDTAVYYCHAEGPFNIATKEQYDYWGQGTQVTVSSAAADYKDHDGDYKDHDIDYKDDDDKGAAHHHHHH'\n",
    "#proteases = [\"Vesuvius\", \"Krakatoa\", \"Elastase\", \"Trypsin\", \"GluC\", \"Chymotrypsin\", \"Papain\", \"ProteinaseK\", \"Thermolysin\"]\n",
    "#chain = \"\"\n",
    "\n",
    "#run = \"NB3\"\n",
    "#protein = 'QVQLQESGGGLVQAGGSLRLSCLASGRTFSDYRIGWFRQAPGKEREFVSTIRNDDANTYYADSVKGRFTISRDNAKNTVYLQMNSLKPEDTAVYYCAAGARHTAQTMAAGKGIDYWGQGTQVTVSSAAADYKDHDGDYKDHDIDYKDDDDKGAAHHHHHH'\n",
    "#proteases = [\"Vesuvius\", \"Krakatoa\", \"Elastase\", \"Trypsin\", \"GluC\", \"Chymotrypsin\", \"Papain\", \"ProteinaseK\", \"Thermolysin\"]\n",
    "#chain = \"\"\n",
    "\n",
    "run = \"NB13\"\n",
    "protein = 'QVQLQESGGGLVQPGGSLRLSCAASGSASSMYTLAWYRQAPGKQRELVALITSGHMTHYEDSVKGRFTISRDNAKEVLYLQMNSLKPEDTAVYFCNLHRLTSSDDDGRTWGQGTQVTVSSAAADYKDHDGDYKDHDIDYKDDDDKGAAHHHHHH'\n",
    "proteases = [\"Vesuvius\", \"Krakatoa\", \"Elastase\", \"Trypsin\", \"GluC\", \"Chymotrypsin\", \"Papain\", \"ProteinaseK\", \"Thermolysin\"]\n",
    "chain = \"\""
   ]
  },
  {
   "cell_type": "code",
   "execution_count": null,
   "id": "e8120c44",
   "metadata": {},
   "outputs": [],
   "source": [
    "# run = \"BIND17\"\n",
    "# protein = \"KEELRAAAAELLAAAEALAEELRRLGLEEAAAHVLAAARHVAAALELIAATPASELNPELKREVAAHLREAAAHFEAAAEIVAAEDPLAGAMLREAALAARSMAAYVLHSSPEEALQQAAVFATGLAGAMLTMTGLVRERLAARGLNDIFEAQKIEWHEHHHHHH\"\n",
    "# proteases = [\"Vesuvius\",\"Chymo\",\"GluC\",\"Papain\",\"Krakatoa\",\"ProtK\",\"Thermo\",\"Trypsin\",\"Elastase\"]\n",
    "# chain = \"\""
   ]
  },
  {
   "cell_type": "code",
   "execution_count": null,
   "id": "1b2458c4",
   "metadata": {},
   "outputs": [],
   "source": [
    "folder_outputs = f\"../outputs/{run}{chain}\"\n",
    "\n",
    "prep.create_directory(folder_outputs)\n",
    "\n",
    "combination_folder_out = os.path.join(folder_outputs, f\"comb_{ass_method}_c{conf}_ts{size_threshold}_mo{min_overlap}_mi{min_identity}_mm{max_mismatches}\")\n",
    "\n",
    "prep.create_subdirectories_outputs(combination_folder_out)\n"
   ]
  },
  {
   "cell_type": "markdown",
   "id": "230ca650",
   "metadata": {},
   "source": [
    "### Data cleaning"
   ]
  },
  {
   "cell_type": "code",
   "execution_count": null,
   "id": "71aad16e",
   "metadata": {},
   "outputs": [],
   "source": [
    "protein_norm = prep.normalize_sequence(protein)\n",
    "\n",
    "df = pd.read_csv(f\"../input/{run}.csv\")"
   ]
  },
  {
   "cell_type": "code",
   "execution_count": null,
   "id": "70902198",
   "metadata": {},
   "outputs": [],
   "source": [
    "df['protease'] = df['experiment_name'].apply(lambda name: prep.extract_protease(name, proteases))\n",
    "\n",
    "df = prep.clean_dataframe(df)"
   ]
  },
  {
   "cell_type": "code",
   "execution_count": null,
   "id": "07e924af",
   "metadata": {},
   "outputs": [],
   "source": [
    "df['cleaned_preds'] = df['preds'].apply(prep.remove_modifications)"
   ]
  },
  {
   "cell_type": "code",
   "execution_count": null,
   "id": "f51d86b1",
   "metadata": {},
   "outputs": [],
   "source": [
    "cleaned_psms = df['cleaned_preds'].tolist()"
   ]
  },
  {
   "cell_type": "code",
   "execution_count": null,
   "id": "7320a4a2",
   "metadata": {},
   "outputs": [],
   "source": [
    "filtered_psms = prep.filter_contaminants(cleaned_psms, run, \"../fasta/contaminants.fasta\")"
   ]
  },
  {
   "cell_type": "code",
   "execution_count": null,
   "id": "f8a52b79",
   "metadata": {},
   "outputs": [],
   "source": [
    "df = df[df['cleaned_preds'].isin(filtered_psms)]"
   ]
  },
  {
   "cell_type": "code",
   "execution_count": null,
   "id": "2de6fc32",
   "metadata": {},
   "outputs": [],
   "source": [
    "df[\"mapped\"] = df[\"cleaned_preds\"].apply(lambda x: \"True\" if x in protein_norm else \"False\")"
   ]
  },
  {
   "cell_type": "code",
   "execution_count": null,
   "id": "edc50e0f",
   "metadata": {},
   "outputs": [],
   "source": [
    "df = df[df['conf'] > conf]"
   ]
  },
  {
   "cell_type": "code",
   "execution_count": null,
   "id": "0d6d2911",
   "metadata": {},
   "outputs": [],
   "source": [
    "df.reset_index(drop=True, inplace=True)"
   ]
  },
  {
   "cell_type": "code",
   "execution_count": null,
   "id": "c988e164",
   "metadata": {},
   "outputs": [],
   "source": [
    "final_psms = df['cleaned_preds'].tolist()"
   ]
  },
  {
   "cell_type": "code",
   "execution_count": null,
   "id": "9f733618",
   "metadata": {},
   "outputs": [],
   "source": [
    "mapped_psms = map.process_protein_contigs_scaffold(final_psms, protein_norm, max_mismatches, min_identity)"
   ]
  },
  {
   "cell_type": "code",
   "execution_count": null,
   "id": "24e7948a",
   "metadata": {},
   "outputs": [],
   "source": [
    "cdrs = {\"CDR1\": (31, 35), \"CDR2\": (50, 66), \"CDR3\": (99, 115)}\n",
    "highlight_colors = {\"CDR1\": \"orange\", \"CDR2\": \"lightgreen\", \"CDR3\": \"deepskyblue\"}\n",
    "\n",
    "depth = np.zeros(len(protein_norm), dtype=int)\n",
    "for _, (start, end, _, _) in mapped_psms:\n",
    "    depth[start:end] += 1\n",
    "\n",
    "fig = go.Figure()\n",
    "fig.add_trace(go.Scatter(\n",
    "    x=list(range(len(protein_norm))),\n",
    "    y=depth,\n",
    "    mode='lines',\n",
    "    line=dict(color='steelblue', width=2),\n",
    "    fill='tozeroy',\n",
    "    fillcolor='rgba(70, 130, 180, 0.2)', \n",
    "    name='PSM Depth'\n",
    "))\n",
    "\n",
    "for label, (start, end) in cdrs.items():\n",
    "    fig.add_shape(\n",
    "        type=\"rect\",\n",
    "        x0=start, x1=end,\n",
    "        y0=0, y1=max(depth),\n",
    "        fillcolor=highlight_colors[label],\n",
    "        opacity=0.3,\n",
    "        line=dict(width=0),\n",
    "        layer=\"below\"\n",
    "    )\n",
    "    fig.add_annotation(\n",
    "        x=(start + end) / 2,\n",
    "        y=max(depth) + 8,\n",
    "        text=label,\n",
    "        showarrow=False,\n",
    "        font=dict(size=14, color=\"black\"),\n",
    "        xanchor=\"center\"\n",
    "    )\n",
    "\n",
    "fig.update_layout(\n",
    "    title='PSM depth across the protein sequence with CDR regions',\n",
    "    xaxis=dict(\n",
    "        title='Amino acid position',\n",
    "        tickmode='linear',\n",
    "        dtick=10,\n",
    "        showline=True,\n",
    "        linecolor='black',\n",
    "        linewidth=2,\n",
    "        showgrid=False\n",
    "    ),\n",
    "    yaxis=dict(\n",
    "        title='Depth (Number of matching PSMs per position)',\n",
    "        showline=True,\n",
    "        linecolor='black',\n",
    "        linewidth=2,\n",
    "        showgrid=False\n",
    "    ),\n",
    "    template='plotly_white',\n",
    "    height=450,\n",
    "    width=1000,\n",
    "    margin=dict(t=60),\n",
    "    showlegend=False\n",
    ")\n",
    "\n",
    "fig.show()\n",
    "fig.write_image('fig_4C_depth_psms_cdrs.svg', format='svg', scale=2)"
   ]
  },
  {
   "cell_type": "markdown",
   "id": "07a38cda",
   "metadata": {},
   "source": [
    "### Assembly"
   ]
  },
  {
   "cell_type": "code",
   "execution_count": null,
   "id": "e7c76d89",
   "metadata": {},
   "outputs": [],
   "source": [
    "assembled_contigs = greedy.assemble_contigs(final_psms, min_overlap)"
   ]
  },
  {
   "cell_type": "code",
   "execution_count": null,
   "id": "0f4f156c",
   "metadata": {},
   "outputs": [],
   "source": [
    "assembled_contigs = list(set(assembled_contigs))"
   ]
  },
  {
   "cell_type": "code",
   "execution_count": null,
   "id": "bca588e1",
   "metadata": {},
   "outputs": [],
   "source": [
    "assembled_contigs = [contig for contig in assembled_contigs if len(contig) > size_threshold]"
   ]
  },
  {
   "cell_type": "code",
   "execution_count": null,
   "id": "59895e98",
   "metadata": {},
   "outputs": [],
   "source": [
    "assembled_contigs = sorted(assembled_contigs, key=len, reverse=True)"
   ]
  },
  {
   "cell_type": "code",
   "execution_count": null,
   "id": "5cd379cc",
   "metadata": {},
   "outputs": [],
   "source": [
    "records = [Bio.SeqRecord.SeqRecord(Bio.Seq.Seq(contig), id=f\"contig_{idx+1}\",\n",
    "                                    description=f\"length: {len(contig)}\") for idx,\n",
    "                                    contig in enumerate(assembled_contigs)\n",
    "                                    ]"
   ]
  },
  {
   "cell_type": "code",
   "execution_count": null,
   "id": "b062a73a",
   "metadata": {},
   "outputs": [],
   "source": [
    "Bio.SeqIO.write(records, f\"{combination_folder_out}/contigs/{ass_method}_contig_{conf}_{run}.fasta\", \"fasta\")"
   ]
  },
  {
   "cell_type": "code",
   "execution_count": null,
   "id": "bb456b01",
   "metadata": {},
   "outputs": [],
   "source": [
    "mapped_contigs = map.process_protein_contigs_scaffold(assembled_contigs, protein_norm, max_mismatches, min_identity)"
   ]
  },
  {
   "cell_type": "code",
   "execution_count": null,
   "id": "f0ef8efe",
   "metadata": {},
   "outputs": [],
   "source": [
    "df_contigs_mapped = map.create_dataframe_from_mapped_sequences(data = mapped_contigs)"
   ]
  },
  {
   "cell_type": "code",
   "execution_count": null,
   "id": "094aad16",
   "metadata": {},
   "outputs": [],
   "source": [
    "comp_stat.compute_assembly_statistics(df = df_contigs_mapped, sequence_type='contigs', output_folder = f\"{combination_folder_out}/statistics\", reference = protein_norm, **params)"
   ]
  },
  {
   "cell_type": "code",
   "execution_count": null,
   "id": "bf77ffe7",
   "metadata": {},
   "outputs": [],
   "source": [
    "map.mapping_substitutions(\n",
    "    mapped_sequences = mapped_contigs,\n",
    "    prot_seq = protein_norm,\n",
    "    title=f\"Contig mapping to reference sequence, {run}\",\n",
    "    contig_colors=\"#D8D9E8\",\n",
    "    match_color=\"#D8D9E8\",\n",
    "    output_file= f\"fig_X_{run}_substitution_map_contigs_greedy.svg\",\n",
    "    output_folder=\".\"\n",
    ")"
   ]
  },
  {
   "cell_type": "code",
   "execution_count": null,
   "id": "17f84fef",
   "metadata": {},
   "outputs": [],
   "source": [
    "def scaffold_iterative_greedy(contigs, min_overlap, size_threshold, disable_tqdm=False):\n",
    "    prev = None\n",
    "    current = contigs\n",
    "\n",
    "    while prev != current:\n",
    "        prev = current\n",
    "        \n",
    "        current = greedy.combine_seqs_into_scaffolds(current, min_overlap)\n",
    "        current = list(set(current))\n",
    "        current = [s for s in current if len(s) > size_threshold]\n",
    "        current = sorted(current, key=len, reverse=True)\n",
    "\n",
    "        current = greedy.combine_seqs_into_scaffolds(current, min_overlap)\n",
    "        current = list(set(current))\n",
    "        current = [s for s in current if len(s) > size_threshold]\n",
    "        current = sorted(current, key=len, reverse=True)\n",
    "\n",
    "        current = greedy.merge_contigs(current)\n",
    "        current = list(set(current))\n",
    "        current = [s for s in current if len(s) > size_threshold]\n",
    "        current = sorted(current, key=len, reverse=True)\n",
    "\n",
    "    return current"
   ]
  },
  {
   "cell_type": "code",
   "execution_count": null,
   "id": "70432a15",
   "metadata": {},
   "outputs": [],
   "source": [
    "assembled_scaffolds = scaffold_iterative_greedy(assembled_contigs, min_overlap, size_threshold)"
   ]
  },
  {
   "cell_type": "code",
   "execution_count": null,
   "id": "74a7a21b",
   "metadata": {},
   "outputs": [],
   "source": [
    "records = []\n",
    "\n",
    "for i, seq in enumerate(assembled_scaffolds):\n",
    "    record = Bio.SeqRecord.SeqRecord(Bio.Seq.Seq(seq), id=f\"scaffold_{i+1}\", description=f\"length: {len(seq)}\")\n",
    "    records.append(record)"
   ]
  },
  {
   "cell_type": "code",
   "execution_count": null,
   "id": "f83b34db",
   "metadata": {},
   "outputs": [],
   "source": [
    "Bio.SeqIO.write(records, f\"{combination_folder_out}/scaffolds/{ass_method}_scaffold_{conf}_{run}.fasta\", \"fasta\")"
   ]
  },
  {
   "cell_type": "code",
   "execution_count": null,
   "id": "184fe57f",
   "metadata": {},
   "outputs": [],
   "source": [
    "mapped_scaffolds = map.process_protein_contigs_scaffold(assembled_scaffolds, protein_norm, max_mismatches, min_identity)"
   ]
  },
  {
   "cell_type": "code",
   "execution_count": null,
   "id": "212f687e",
   "metadata": {},
   "outputs": [],
   "source": [
    "df_scaffolds_mapped = map.create_dataframe_from_mapped_sequences(data = mapped_scaffolds)"
   ]
  },
  {
   "cell_type": "code",
   "execution_count": null,
   "id": "1138b923",
   "metadata": {},
   "outputs": [],
   "source": [
    "comp_stat.compute_assembly_statistics(df = df_scaffolds_mapped, sequence_type='scaffolds', output_folder = f\"{combination_folder_out}/statistics\", reference = protein_norm, **params)"
   ]
  },
  {
   "cell_type": "code",
   "execution_count": null,
   "id": "41beca08",
   "metadata": {},
   "outputs": [],
   "source": [
    "map.mapping_substitutions(mapped_sequences = mapped_scaffolds,\n",
    "                          prot_seq = protein_norm,\n",
    "                          title=f\"Scaffold mapping to reference sequence, {run}\",\n",
    "                          contig_colors=\"#BCBDD9\",\n",
    "                          match_color=\"#BCBDD9\", \n",
    "                          output_file=f\"fig_X_{run}_substitution_map_scaffolds_greedy.svg\",\n",
    "                          output_folder=\".\"\n",
    "                          )\n"
   ]
  },
  {
   "cell_type": "markdown",
   "id": "5ec8f596",
   "metadata": {},
   "source": [
    "### Clustering"
   ]
  },
  {
   "cell_type": "code",
   "execution_count": null,
   "id": "78a196e4",
   "metadata": {},
   "outputs": [],
   "source": [
    "scaffolds_folder_out = f\"../outputs/{run}{chain}/{comb}/scaffolds\"\n",
    "print(f\"scaffolds_folder_out: {scaffolds_folder_out}\")"
   ]
  },
  {
   "cell_type": "code",
   "execution_count": null,
   "id": "eddc364b",
   "metadata": {},
   "outputs": [],
   "source": [
    "importlib.reload(cons)\n",
    "\n",
    "clus.cluster_fasta_files(input_folder = scaffolds_folder_out)"
   ]
  },
  {
   "cell_type": "code",
   "execution_count": null,
   "id": "b9b13387",
   "metadata": {},
   "outputs": [],
   "source": [
    "cluster_folder_out = os.path.join(scaffolds_folder_out, \"cluster\")\n",
    "print(cluster_folder_out)"
   ]
  },
  {
   "cell_type": "code",
   "execution_count": null,
   "id": "c6ac643b",
   "metadata": {},
   "outputs": [],
   "source": [
    "cluster_tsv_folder = os.path.join(scaffolds_folder_out, \"cluster\")\n",
    "output_base_folder = os.path.join(scaffolds_folder_out, \"cluster_fasta\")\n",
    "\n",
    "for fasta_file in os.listdir(scaffolds_folder_out):\n",
    "    if fasta_file.endswith('.fasta'):\n",
    "        fasta_path = os.path.join(scaffolds_folder_out, fasta_file)\n",
    "        clus.process_fasta_and_clusters(fasta_path, cluster_tsv_folder, output_base_folder)"
   ]
  },
  {
   "cell_type": "markdown",
   "id": "92141fa0",
   "metadata": {},
   "source": [
    "### Alignment"
   ]
  },
  {
   "cell_type": "code",
   "execution_count": null,
   "id": "1457f7e6",
   "metadata": {},
   "outputs": [],
   "source": [
    "cluster_fasta_folder = os.path.join(scaffolds_folder_out, \"cluster_fasta\") \n",
    "align_folder = os.path.join(scaffolds_folder_out, \"align\")\n",
    "prep.create_directory(align_folder)"
   ]
  },
  {
   "cell_type": "code",
   "execution_count": null,
   "id": "5ffaa94f",
   "metadata": {},
   "outputs": [],
   "source": [
    "def align_or_copy_fasta(fasta_file, output_file):\n",
    "\n",
    "    sequences = list(SeqIO.parse(fasta_file, \"fasta\"))\n",
    "    \n",
    "    if len(sequences) == 1:\n",
    "        shutil.copy(fasta_file, output_file)\n",
    "    else:\n",
    "        subprocess.run([\"clustalo\", \"-i\", fasta_file, \"-o\", output_file, \"--outfmt\", \"fa\"])\n"
   ]
  },
  {
   "cell_type": "code",
   "execution_count": null,
   "id": "aa0d1dba",
   "metadata": {},
   "outputs": [],
   "source": [
    "for cluster_folder in os.listdir(cluster_fasta_folder): \n",
    "    cluster_folder_path = os.path.join(cluster_fasta_folder, cluster_folder) \n",
    "    if os.path.isdir(cluster_folder_path): \n",
    "        \n",
    "        output_cluster_folder = os.path.join(align_folder, cluster_folder) \n",
    "        os.makedirs(output_cluster_folder, exist_ok=True) \n",
    "            \n",
    "        for fasta_file in os.listdir(cluster_folder_path): \n",
    "            if fasta_file.endswith('.fasta'): \n",
    "                fasta_file_path = os.path.join(cluster_folder_path, fasta_file)\n",
    "                base_filename = os.path.splitext(fasta_file)[0] \n",
    "                output_file = os.path.join(output_cluster_folder, f\"{base_filename}_out.afa\")\n",
    "                    \n",
    "                align_or_copy_fasta(fasta_file_path, output_file)\n",
    "\n",
    "print(\"All alignment tasks completed.\")"
   ]
  },
  {
   "cell_type": "markdown",
   "id": "7c2e3f2b",
   "metadata": {},
   "source": [
    "### Consensus"
   ]
  },
  {
   "cell_type": "code",
   "execution_count": null,
   "id": "69cb7099",
   "metadata": {},
   "outputs": [],
   "source": [
    "consensus_folder = os.path.join(scaffolds_folder_out, \"consensus\")"
   ]
  },
  {
   "cell_type": "code",
   "execution_count": null,
   "id": "886c3983",
   "metadata": {},
   "outputs": [],
   "source": [
    "importlib.reload(cons)\n",
    "\n",
    "cons.process_alignment_files(align_folder, consensus_folder)"
   ]
  },
  {
   "cell_type": "code",
   "execution_count": null,
   "id": "c8a670f0",
   "metadata": {},
   "outputs": [],
   "source": [
    "all_sequences = cons.load_all_consensus_sequences(consensus_folder)"
   ]
  },
  {
   "cell_type": "markdown",
   "id": "84db7520",
   "metadata": {},
   "source": [
    "## CDR regions analysis"
   ]
  },
  {
   "cell_type": "raw",
   "id": "5bb88285",
   "metadata": {
    "vscode": {
     "languageId": "raw"
    }
   },
   "source": [
    "seq = \"QVQLQESGGGLVQPGGSLRLSCAASGSASSMYTLAWYRQAPGKQRELVALITSGHMTHYEDSVKGRFTISRDNAKEVLYLQMNSLKPEDTAVYFCNLHRLTSSDDDGRTWGQGTQVTVSSAAADYKDHDGDYKDHDIDYKDDDDKGAAHHHHHH\"\n",
    "\n",
    "cdrs = {\n",
    "    \"CDR1\": seq[30:35],\n",
    "    \"CDR2\": seq[49:66], \n",
    "    \"CDR3\": seq[98:115], \n",
    "}\n",
    "\n",
    "for cdr, seq_part in cdrs.items():\n",
    "    print(f\"{cdr}: {seq_part}\")"
   ]
  },
  {
   "cell_type": "raw",
   "id": "7eaaa171",
   "metadata": {
    "vscode": {
     "languageId": "raw"
    }
   },
   "source": [
    "# Styling\n",
    "font_family = \"Courier New\"\n",
    "highlight_colors = {\n",
    "    \"CDR1\": \"#f4a261\",\n",
    "    \"CDR2\": \"#2a9d8f\",\n",
    "    \"CDR3\": \"#457b9d\"\n",
    "}"
   ]
  },
  {
   "cell_type": "raw",
   "id": "95399158",
   "metadata": {
    "vscode": {
     "languageId": "raw"
    }
   },
   "source": [
    ">scaffold_5 length: 68\n",
    "QVQLQESGGGLVQPGGSLRLSCAASGSASSMYTLAWYRQAPGKQRELVALLTSGHMTHYEDSVKGRFY\n",
    "\n",
    "contains CDR1 and CDR2\n",
    "\n",
    ">scaffold_10 length: 58\n",
    "SYFCNLHRLTSSDDDGRTWGQGTQVTVSSAAADYKDHDGDYKDHDLDYKDDDDKGAAH\n",
    "CDR3"
   ]
  },
  {
   "cell_type": "code",
   "execution_count": null,
   "id": "6bb5f26c",
   "metadata": {},
   "outputs": [],
   "source": [
    "def plot_cdr_scaffolds(reference_seq, scaffold_info, cdrs, highlight_colors,\n",
    "                       font_family='monospace', font_size=25, letter_spacing=1.5, save_path=None):\n",
    "    \"\"\"\n",
    "    Plot reference sequence and full scaffold sequences aligned, highlighting CDR regions,\n",
    "    with adjustable letter spacing for sequence letters.\n",
    "    \n",
    "    \"\"\"\n",
    "    # Helper for L/I equivalence\n",
    "    def chars_equal(a, b):\n",
    "        return (a in ['L','I'] and b in ['L','I']) or a == b\n",
    "\n",
    "    # Find offset where seq aligns in ref\n",
    "    def find_alignment_offset(ref, seq):\n",
    "        for pos in range(len(ref) - len(seq) + 1):\n",
    "            if all(chars_equal(ref[pos+i], seq[i]) for i in range(len(seq))):\n",
    "                return pos\n",
    "        return 0\n",
    "\n",
    "    # Dynamically adjust figure width to letter spacing and sequence length\n",
    "    fig_width = max(10, len(reference_seq) * letter_spacing / 8)\n",
    "    fig, ax = plt.subplots(figsize=(fig_width, 6))\n",
    "    ax.axis('off')\n",
    "\n",
    "    # Plot CDR highlights on reference\n",
    "    for name, (start, end) in cdrs.items():\n",
    "        x0 = (start - 1) * letter_spacing + 1\n",
    "        width = (end - start + 1) * letter_spacing\n",
    "        ax.add_patch(Rectangle((x0, 4.5), width, 0.8, color=highlight_colors[name], alpha=0.3))\n",
    "        ax.text(x0 + width/2, 5.5, name, ha='center', va='bottom',\n",
    "                fontsize=font_size, fontweight='bold', color=highlight_colors[name])\n",
    "\n",
    "    # Plot reference sequence with spaced letters\n",
    "    ax.text(-5, 5, \"Reference\", fontfamily=font_family, fontsize=font_size, ha='right')\n",
    "    for i, aa in enumerate(reference_seq):\n",
    "        x = i * letter_spacing + 1\n",
    "        ax.text(x, 5, aa, fontfamily=font_family, fontsize=font_size, color='black')\n",
    "\n",
    "    y_positions = [4, 3, 2]\n",
    "    for idx, (scaf_name, seq) in enumerate(scaffold_info):\n",
    "        cdr_name = f\"CDR{idx+1}\"\n",
    "        color = highlight_colors[cdr_name]\n",
    "        offset = find_alignment_offset(reference_seq, seq)\n",
    "\n",
    "        # Calculate relative CDR positions\n",
    "        start, end = cdrs[cdr_name]\n",
    "        rel_start = max(start - 1 - offset, 0)\n",
    "        rel_end = min(end - 1 - offset, len(seq) - 1)\n",
    "\n",
    "        # Label including scaffold number\n",
    "        ax.text(-5, y_positions[idx], f\"{cdr_name} ({scaf_name})\",\n",
    "                fontfamily=font_family, fontsize=font_size, ha='right')\n",
    "\n",
    "        # Draw each letter with spacing\n",
    "        for i, aa in enumerate(seq):\n",
    "            x = (offset + i) * letter_spacing + 1\n",
    "            ax.text(x, y_positions[idx], aa, fontfamily=font_family,\n",
    "                    fontsize=font_size, color='black')\n",
    "\n",
    "        # Highlight CDR region on scaffold\n",
    "        if rel_end >= rel_start:\n",
    "            x0 = (offset + rel_start) * letter_spacing + 1\n",
    "            width = (rel_end - rel_start + 1) * letter_spacing\n",
    "            ax.add_patch(Rectangle((x0, y_positions[idx] - 0.2),\n",
    "                                   width, 0.8, color=color, alpha=0.3))\n",
    "\n",
    "    ax.set_xlim(0, len(reference_seq) * letter_spacing + 5)\n",
    "    ax.set_ylim(1.5, 6)\n",
    "\n",
    "    plt.tight_layout()\n",
    "    if save_path:\n",
    "        plt.savefig(save_path, format='svg', dpi=600, bbox_inches='tight')\n",
    "    plt.show()\n",
    "\n",
    "reference_seq = (\"QVQLQESGGGLVQPGGSLRLSCAASGSASSMYTLAWYRQAPGKQRELVALITSGHMTHYEDSVKGRFTISRDNAKEVLYLQMNSLKPEDTAVYFCNLHRLTSSDDDGRTWGQGTQVTVSSAAADYKDHDGDYKDHDIDYKDDDDKGAAHHHHHH\")\n",
    "\n",
    "\n",
    "cdrs = {\"CDR1\": (31, 35), \"CDR2\": (50, 66), \"CDR3\": (99, 115)}\n",
    "highlight_colors = {\"CDR1\": \"orange\", \"CDR2\": \"lightgreen\", \"CDR3\": \"deepskyblue\"}\n",
    "scaffold_info =[\n",
    "    (\"scaffold_5\", \"QVQLQESGGGLVQPGGSLRLSCAASGSASSMYTLAWYRQAPGKQRELVALLTSGHMTHYEDSVKGRFY\"),\n",
    "    (\"scaffold_10\", \"SYFCNLHRLTSSDDDGRTWGQGTQVTVSSAAADYKDHDGDYKDHDLDYKDDDDKGAAH\")\n",
    "]\n",
    "\n",
    "plot_cdr_scaffolds(\n",
    "    reference_seq,\n",
    "    scaffold_info,\n",
    "    cdrs,\n",
    "    highlight_colors,\n",
    "    font_size=20,\n",
    "    letter_spacing=3,  # increased spacing\n",
    "    save_path=\"cdrs_scaffolds.svg\"\n",
    ")\n"
   ]
  }
 ],
 "metadata": {
  "kernelspec": {
   "display_name": "assembly",
   "language": "python",
   "name": "python3"
  },
  "language_info": {
   "codemirror_mode": {
    "name": "ipython",
    "version": 3
   },
   "file_extension": ".py",
   "mimetype": "text/x-python",
   "name": "python",
   "nbconvert_exporter": "python",
   "pygments_lexer": "ipython3",
   "version": "3.12.2"
  }
 },
 "nbformat": 4,
 "nbformat_minor": 5
}
