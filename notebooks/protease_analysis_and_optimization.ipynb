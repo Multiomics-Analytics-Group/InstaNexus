{
 "cells": [
  {
   "cell_type": "code",
   "execution_count": null,
   "id": "eb66d408",
   "metadata": {},
   "outputs": [],
   "source": [
    "r\"\"\" Protease optimization\n",
    " _____  _______  _    _ \n",
    "|  __ \\|__   __|| |  | |\n",
    "| |  | |  | |   | |  | |\n",
    "| |  | |  | |   | |  | |\n",
    "| |__| |  | |   | |__| |\n",
    "|_____/   |_|   |______|\n",
    "\n",
    "__authors__ = Marco Reverenna & Konstantinos Kalogeropoulus\n",
    "__copyright__ = Copyright 2025-2026\n",
    "__research-group__ = DTU Biosustain (Multi-omics Network Analytics) and DTU Bioengineering\n",
    "__date__ = 22 Jun 2025\n",
    "__maintainer__ = Marco Reverenna\n",
    "__email__ = marcor@dtu.dk\n",
    "__status__ = Dev\n",
    "\"\"\""
   ]
  },
  {
   "cell_type": "code",
   "execution_count": null,
   "id": "d0a13e48",
   "metadata": {},
   "outputs": [],
   "source": [
    "#bsa_theme = [[0.0, \"#fee8c8\"], [0.7, \"#fdbb84\"], [0.8, \"#ef6548\"], [0.9, \"#b30000\"], [1.0, \"#7f0000\"]]\n",
    "\n",
    "import os\n",
    "import sys\n",
    "\n",
    "script_dir = os.getcwd()  # get the current working directory\n",
    "sys.path.append(os.path.join(script_dir, '../src'))"
   ]
  },
  {
   "cell_type": "code",
   "execution_count": null,
   "id": "8d5e17a5",
   "metadata": {},
   "outputs": [],
   "source": [
    "# my modules\n",
    "import dbg\n",
    "import greedy_method as greedy\n",
    "import mapping as map\n",
    "import consensus as cons\n",
    "import alignment as align\n",
    "import clustering as clus\n",
    "import preprocessing as prep\n",
    "import compute_statistics as comp_stat\n",
    "\n",
    "# import libraries\n",
    "from tqdm import tqdm\n",
    "from tempfile import mkdtemp\n",
    "from itertools import combinations\n",
    "from collections import defaultdict, Counter\n",
    "from scipy.stats import gaussian_kde\n",
    "from Bio import SeqIO\n",
    "\n",
    "\n",
    "import json\n",
    "import re\n",
    "import Bio\n",
    "import shutil\n",
    "import logging\n",
    "import importlib\n",
    "import statistics\n",
    "import subprocess\n",
    "import numpy as np\n",
    "import pandas as pd\n",
    "import seaborn as sns\n",
    "import networkx as nx\n",
    "import plotly.express as px\n",
    "import matplotlib.pyplot as plt\n",
    "import plotly.graph_objects as go"
   ]
  },
  {
   "cell_type": "code",
   "execution_count": null,
   "id": "4c3e6cdf",
   "metadata": {},
   "outputs": [],
   "source": [
    "def get_sample_metadata(run, chain=\"\", json_path=\"../json/sample_metadata.json\"):\n",
    "    with open(json_path, \"r\") as f:\n",
    "        all_meta = json.load(f)\n",
    "\n",
    "    if run not in all_meta:\n",
    "        raise ValueError(f\"Run '{run}' not found in metadata.\")\n",
    "\n",
    "    entries = all_meta[run]\n",
    "\n",
    "    for entry in entries:\n",
    "        if entry[\"chain\"] == chain:\n",
    "            return entry\n",
    "\n",
    "    raise ValueError(f\"No metadata found for run '{run}' with chain '{chain}'.\")"
   ]
  },
  {
   "cell_type": "code",
   "execution_count": null,
   "id": "0c888a6f",
   "metadata": {},
   "outputs": [],
   "source": [
    "def get_colors_from_run(cat, is_scaffold=False, json_path=\"../json/colors.json\"):\n",
    "    if not os.path.exists(json_path):\n",
    "        raise FileNotFoundError(f\"Missing color file: {json_path}\")\n",
    "\n",
    "    with open(json_path, \"r\") as f:\n",
    "        colors = json.load(f)\n",
    "\n",
    "    category = cat.split(\"_\")[0].lower()\n",
    "    key = \"scaffold\" if is_scaffold else \"contig\"\n",
    "\n",
    "    try:\n",
    "        return colors[category][key]\n",
    "    except KeyError:\n",
    "        raise ValueError(f\"Color not defined for category '{category}' and key '{key}'\")\n"
   ]
  },
  {
   "cell_type": "code",
   "execution_count": null,
   "id": "8edb5e25",
   "metadata": {},
   "outputs": [],
   "source": [
    "def get_combination_name(ass_method, conf, kmer_size, size_threshold, min_overlap, min_identity, max_mismatches):\n",
    "    if ass_method == \"dbg\":\n",
    "        return f\"comb_{ass_method}_c{conf}_ks{kmer_size}_ts{size_threshold}_mo{min_overlap}_mi{min_identity}_mm{max_mismatches}\"\n",
    "    else:\n",
    "        return f\"comb_{ass_method}_c{conf}_ts{size_threshold}_mo{min_overlap}_mi{min_identity}_mm{max_mismatches}\"\n"
   ]
  },
  {
   "cell_type": "code",
   "execution_count": null,
   "id": "2fd4cc2a",
   "metadata": {},
   "outputs": [],
   "source": [
    "run = \"bsa\"\n",
    "\n",
    "meta = get_sample_metadata(run)\n",
    "\n",
    "protein = meta[\"protein\"]\n",
    "chain = meta[\"chain\"]\n",
    "proteases = meta[\"proteases\"]\n",
    "\n",
    "print(f\"Protein: {protein}\")\n",
    "print(f\"Chain: {chain}\")\n",
    "print(f\"Proteases: {proteases}\")"
   ]
  },
  {
   "cell_type": "code",
   "execution_count": null,
   "id": "256b4bb1",
   "metadata": {},
   "outputs": [],
   "source": [
    "ass_method = 'dbg'\n",
    "kmer_size = 7\n",
    "conf = 0.92\n",
    "size_threshold = 5\n",
    "min_overlap = 3\n",
    "min_identity = 0.9\n",
    "max_mismatches = 12"
   ]
  },
  {
   "cell_type": "code",
   "execution_count": null,
   "id": "bac7ad27",
   "metadata": {},
   "outputs": [],
   "source": [
    "params = {\"ass_method\": 'dbg',\n",
    "          \"conf\": conf,\n",
    "          \"kmer_size\": kmer_size,\n",
    "          \"min_overlap\": min_overlap,\n",
    "          \"min_identity\": min_identity,\n",
    "          \"max_mismatches\": max_mismatches,\n",
    "          \"size_threshold\": size_threshold\n",
    "          }"
   ]
  },
  {
   "cell_type": "markdown",
   "id": "2ca8a5a9",
   "metadata": {},
   "source": [
    "### Data cleaning"
   ]
  },
  {
   "cell_type": "code",
   "execution_count": null,
   "id": "91f0d5a9",
   "metadata": {},
   "outputs": [],
   "source": [
    "protein_norm = prep.normalize_sequence(protein)\n",
    "\n",
    "df = pd.read_csv(f\"../input/{run}.csv\")"
   ]
  },
  {
   "cell_type": "code",
   "execution_count": null,
   "id": "b34f7508",
   "metadata": {},
   "outputs": [],
   "source": [
    "df['protease'] = df['experiment_name'].apply(lambda name: prep.extract_protease(name, proteases))\n",
    "\n",
    "df = prep.clean_dataframe(df)"
   ]
  },
  {
   "cell_type": "code",
   "execution_count": null,
   "id": "770c7892",
   "metadata": {},
   "outputs": [],
   "source": [
    "df['cleaned_preds'] = df['preds'].apply(prep.remove_modifications)"
   ]
  },
  {
   "cell_type": "code",
   "execution_count": null,
   "id": "257f9bf7",
   "metadata": {},
   "outputs": [],
   "source": [
    "cleaned_psms = df['cleaned_preds'].tolist()"
   ]
  },
  {
   "cell_type": "code",
   "execution_count": null,
   "id": "1c7adfe0",
   "metadata": {},
   "outputs": [],
   "source": [
    "filtered_psms = prep.filter_contaminants(cleaned_psms, run, \"../fasta/contaminants.fasta\")"
   ]
  },
  {
   "cell_type": "code",
   "execution_count": null,
   "id": "f43b90eb",
   "metadata": {},
   "outputs": [],
   "source": [
    "df = df[df['cleaned_preds'].isin(filtered_psms)]"
   ]
  },
  {
   "cell_type": "code",
   "execution_count": null,
   "id": "88d6b9c7",
   "metadata": {},
   "outputs": [],
   "source": [
    "df[\"mapped\"] = df[\"cleaned_preds\"].apply(lambda x: \"True\" if x in protein_norm else \"False\")"
   ]
  },
  {
   "cell_type": "code",
   "execution_count": null,
   "id": "184e59cc",
   "metadata": {},
   "outputs": [],
   "source": [
    "df"
   ]
  },
  {
   "cell_type": "code",
   "execution_count": null,
   "id": "7aa2e8a8",
   "metadata": {},
   "outputs": [],
   "source": [
    "def plot_ridgeline_log_kde(df, protease_column='protease', conf_column='conf',\n",
    "                            protease_list=None, vertical_gap=5, figsize=(12, 12),\n",
    "                            cmap='viridis', custom_colors=None,\n",
    "                            title=\"Confidence score distributions of PSMs per protease in BSA\",\n",
    "                            save_svg_path=None):\n",
    "\n",
    "    if protease_list is None:\n",
    "        protease_list = sorted(df[protease_column].dropna().unique())\n",
    "\n",
    "    x_vals = np.linspace(0, 1, 500)\n",
    "\n",
    "    # Choose colors\n",
    "    if custom_colors is not None:\n",
    "        colors = [custom_colors.get(p, 'gray') for p in protease_list]\n",
    "    else:\n",
    "        colors = plt.cm.get_cmap(cmap)(np.linspace(0, 1, len(protease_list)))\n",
    "\n",
    "    # Compute global minimum for consistent scaling\n",
    "    all_log_densities = []\n",
    "    for p in protease_list:\n",
    "        subset = df[df[protease_column] == p][conf_column].dropna()\n",
    "        if len(subset) < 2:\n",
    "            all_log_densities.append(None)\n",
    "            continue\n",
    "        kde = gaussian_kde(subset)\n",
    "        density = kde(x_vals)\n",
    "        log_density = np.log10(density + 1e-6)\n",
    "        all_log_densities.append(log_density)\n",
    "\n",
    "    global_min = np.min([d.min() for d in all_log_densities if d is not None])\n",
    "\n",
    "    plt.figure(figsize=figsize)\n",
    "    for i, protease in enumerate(protease_list):\n",
    "        log_density = all_log_densities[i]\n",
    "        if log_density is None:\n",
    "            continue\n",
    "        log_density_shifted = log_density - global_min\n",
    "        offset = i * vertical_gap\n",
    "\n",
    "        plt.plot(x_vals, log_density_shifted + offset, color=colors[i], lw=1.5)\n",
    "        plt.fill_between(x_vals, offset, log_density_shifted + offset, alpha=0.4, color=colors[i])\n",
    "        plt.text(1.01, offset + 0.5, protease, va='center', fontsize=10)\n",
    "\n",
    "    plt.xlabel(\"Confidence\", fontsize=12)\n",
    "    plt.ylabel(\"\")\n",
    "    plt.title(title, fontsize=14)\n",
    "    plt.yticks([])\n",
    "    plt.grid(False)\n",
    "\n",
    "    ax = plt.gca()\n",
    "    ax.spines['bottom'].set_color('black')\n",
    "    ax.spines['left'].set_color('black')\n",
    "    ax.spines['top'].set_visible(False)\n",
    "    ax.spines['right'].set_visible(False)\n",
    "\n",
    "    plt.tight_layout()\n",
    "\n",
    "    if save_svg_path:\n",
    "        plt.savefig(save_svg_path, format='svg')\n",
    "        print(f\"Plot saved to: {save_svg_path}\")\n",
    "\n",
    "    plt.show()\n"
   ]
  },
  {
   "cell_type": "code",
   "execution_count": null,
   "id": "99c3e391",
   "metadata": {},
   "outputs": [],
   "source": [
    "with open(\"../json/protease_colors.json\", \"r\") as f:\n",
    "    colors = json.load(f)\n",
    "\n",
    "plot_ridgeline_log_kde(\n",
    "    df,\n",
    "    protease_column='protease',\n",
    "    conf_column='conf',\n",
    "    protease_list=proteases,\n",
    "    custom_colors=colors,\n",
    "    save_svg_path=\"confidence_ridgeline.svg\"\n",
    ")\n"
   ]
  },
  {
   "cell_type": "code",
   "execution_count": null,
   "id": "d60d7c52",
   "metadata": {},
   "outputs": [],
   "source": [
    "df = df[df['conf'] > conf]"
   ]
  },
  {
   "cell_type": "code",
   "execution_count": null,
   "id": "9a7f34c8",
   "metadata": {},
   "outputs": [],
   "source": [
    "final_psms = df['cleaned_preds'].tolist()"
   ]
  },
  {
   "cell_type": "code",
   "execution_count": null,
   "id": "a2d2f1c8",
   "metadata": {},
   "outputs": [],
   "source": [
    "df"
   ]
  },
  {
   "cell_type": "code",
   "execution_count": null,
   "id": "a27357c0",
   "metadata": {},
   "outputs": [],
   "source": [
    "final_df = df.copy()"
   ]
  },
  {
   "cell_type": "code",
   "execution_count": null,
   "id": "e4b6ec44",
   "metadata": {},
   "outputs": [],
   "source": [
    "# order proteases by frequency (most frequent first)\n",
    "ordered_proteases = final_df['protease'].value_counts().index.tolist()"
   ]
  },
  {
   "cell_type": "code",
   "execution_count": null,
   "id": "6eb7fea7",
   "metadata": {},
   "outputs": [],
   "source": [
    "ordered_proteases"
   ]
  },
  {
   "cell_type": "code",
   "execution_count": null,
   "id": "98873491",
   "metadata": {},
   "outputs": [],
   "source": [
    "def protease_opt_statistics(df, sequence_type, output_folder, reference, **params):\n",
    "\n",
    "    statistics = {}\n",
    "    statistics.update(params) \n",
    "\n",
    "    df['sequence_length'] = df['end'] - df['start'] + 1\n",
    "\n",
    "    statistics['reference_start'] = 0\n",
    "    statistics['reference_end'] = len(reference) + 1\n",
    "\n",
    "    statistics['total_sequences'] = len(df)\n",
    "    statistics['average_length'] = df['sequence_length'].mean()\n",
    "    statistics['min_length'] = df['sequence_length'].min()\n",
    "    statistics['max_length'] = df['sequence_length'].max()\n",
    "\n",
    "    covered_positions = set()\n",
    "    for start, end in zip(df[\"start\"], df[\"end\"]):\n",
    "        covered_positions.update(range(start - 1, end))  # Convert 1-based to 0-based indexing\n",
    "    statistics['coverage'] = len(covered_positions) / statistics['reference_end']\n",
    "\n",
    "    # Mismatch statistics\n",
    "    statistics['perfect_matches'] = sum(df['mismatches_pos'].apply(len) == 0)  # sequences with no mismatches\n",
    "    all_mismatches = [pos for mismatches in df['mismatches_pos'] for pos in mismatches]\n",
    "    statistics['total_mismatches'] = len(set(all_mismatches))\n",
    "\n",
    "    lengths = sorted(df['sequence_length'], reverse=True)\n",
    "    total_length = sum(lengths)\n",
    "    \n",
    "    cumulative_length = 0\n",
    "    n50 = None\n",
    "    n90 = None\n",
    "    for length in lengths:\n",
    "        cumulative_length += length\n",
    "        if n50 is None and cumulative_length >= total_length * 0.5:\n",
    "            n50 = length\n",
    "        if n90 is None and cumulative_length >= total_length * 0.9:\n",
    "            n90 = length\n",
    "        if n50 is not None and n90 is not None:\n",
    "            break\n",
    "\n",
    "    statistics['N50'] = n50\n",
    "    statistics['N90'] = n90\n",
    "\n",
    "    # Save JSON file\n",
    "    file_name = f\"{sequence_type}_stats.json\"\n",
    "    output_path = os.path.join(output_folder, file_name)\n",
    "    with open(output_path, \"w\") as file:\n",
    "        json.dump(statistics, file, indent=4)\n",
    "\n",
    "    return statistics"
   ]
  },
  {
   "cell_type": "code",
   "execution_count": null,
   "id": "9e63c247",
   "metadata": {},
   "outputs": [],
   "source": [
    "build_results = []\n",
    "for i in range(1, len(ordered_proteases) + 1):\n",
    "    selected_proteases = ordered_proteases[:i]\n",
    "    filtered_df = final_df[final_df['protease'].isin(selected_proteases)]\n",
    "    seqs = filtered_df['preds'].tolist()\n",
    "\n",
    "    kmers = dbg.get_kmers(final_psms, kmer_size=kmer_size)\n",
    "    edges = dbg.get_debruijn_edges_from_kmers(kmers)\n",
    "    assembled_contigs = dbg.assemble_contigs(edges)\n",
    "\n",
    "    assembled_contigs = sorted(assembled_contigs, key=len, reverse=True)\n",
    "    assembled_contigs = list(set(assembled_contigs))\n",
    "    assembled_contigs = [seq for seq in assembled_contigs if len(seq) > size_threshold]\n",
    "    assembled_contigs = sorted(assembled_contigs, key=len, reverse=True)\n",
    "\n",
    "    mapped_contigs = map.process_protein_contigs_scaffold(assembled_contigs, protein_norm, max_mismatches, min_identity)\n",
    "    df_contigs_mapped = map.create_dataframe_from_mapped_sequences(data = mapped_contigs)\n",
    "    protease_opt_statistics(df = df_contigs_mapped, sequence_type='contigs',\n",
    "                            output_folder = '.', reference = protein_norm, **params)\n",
    "    \n",
    "    assembled_scaffolds = dbg.scaffold_iterative(assembled_contigs, min_overlap, size_threshold)\n",
    "\n",
    "    #\n"
   ]
  }
 ],
 "metadata": {
  "kernelspec": {
   "display_name": "instanexus",
   "language": "python",
   "name": "python3"
  },
  "language_info": {
   "codemirror_mode": {
    "name": "ipython",
    "version": 3
   },
   "file_extension": ".py",
   "mimetype": "text/x-python",
   "name": "python",
   "nbconvert_exporter": "python",
   "pygments_lexer": "ipython3",
   "version": "3.9.21"
  }
 },
 "nbformat": 4,
 "nbformat_minor": 5
}
